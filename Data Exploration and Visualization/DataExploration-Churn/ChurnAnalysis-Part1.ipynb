{
 "cells": [
  {
   "cell_type": "markdown",
   "metadata": {
    "_uuid": "12eb9690e809a94f0b7508a6ca7869730429526b"
   },
   "source": [
    "# Telco Customer Churn Analysis \n",
    "Customer churn measures the number of clients who discontinue a service (cellphone plan, bank account, SaaS application...) or stop buying products (retail, e-commerce...) in a given time period. This dataset for Telecom customer churn is picked up from [IBM Watson Sample datasets](https://www.ibm.com/communities/analytics/watson-analytics-blog/guide-to-sample-datasets/). \n",
    "\n",
    "This dataset contains total 7043 records. Each record is unique for a customer identified using feature customerID. Here the target column on which we will peform classification is Churn which tells whether customer churn or not. Dataset contain total 21 columns whose details are below: \n",
    "\n",
    "__customerID__ - Customer ID uniquly identifying record of a customer\n",
    "\n",
    "__gender__ - Customer gender (female, male)\n",
    "\n",
    "__SeniorCitizen__ - Whether the customer is a senior citizen or not (1, 0)\n",
    "\n",
    "__Partner__ - Whether the customer has a partner or not (Yes, No)\n",
    "\n",
    "__Dependents__ - Whether the customer has dependents or not (Yes, No)\n",
    "\n",
    "__tenure__ - Number of months the customer has stayed with the company\n",
    "\n",
    "__PhoneService__ - Whether the customer has a phone service or not (Yes, No)\n",
    "\n",
    "__MultipleLines__ - Whether the customer has multiple lines or not (Yes, No, No phone service)\n",
    "\n",
    "__InternetService__ - Customer’s internet service provider (DSL, Fiber optic, No)\n",
    "\n",
    "__OnlineSecurity__ - Whether the customer has online security or not (Yes, No, No internet service)\n",
    "\n",
    "__OnlineBackup__ - Whether the customer has online backup or not (Yes, No, No internet service)\n",
    "\n",
    "__DeviceProtection__ - Whether the customer has device protection or not (Yes, No, No internet service)\n",
    "\n",
    "__TechSupport__ - Whether the customer has tech support or not (Yes, No, No internet service)\n",
    "\n",
    "__StreamingTV__ - Whether the customer has streaming TV or not (Yes, No, No internet service)\n",
    "\n",
    "__StreamingMovies__ - Whether the customer has streaming movies or not (Yes, No, No internet service)\n",
    "\n",
    "__Contract__ -The contract term of the customer (Month-to-month, One year, Two year)\n",
    "\n",
    "__PaperlessBilling__ - Whether the customer has paperless billing or not (Yes, No)\n",
    "\n",
    "__PaymentMethod__ - The customer’s payment method (Electronic check, Mailed check, Bank transfer (automatic), Credit card (automatic))\n",
    "\n",
    "__MonthlyCharges__ - The amount charged to the customer monthly\n",
    "\n",
    "__TotalCharges__ - The total amount charged to the customer\n",
    "\n",
    "__Churn__ -Whether the customer churned or not (Yes or No)"
   ]
  },
  {
   "cell_type": "markdown",
   "metadata": {
    "_uuid": "298efa7c7c8df0d249a1fd1bd5832383a767871f"
   },
   "source": [
    "### Import libraries and dataset"
   ]
  },
  {
   "cell_type": "code",
   "execution_count": 1,
   "metadata": {
    "_uuid": "47441c8b292731db6b04c95729370d1fe269deea"
   },
   "outputs": [
    {
     "data": {
      "text/html": [
       "<script type=\"text/javascript\">window.PlotlyConfig = {MathJaxConfig: 'local'};</script><script type=\"text/javascript\">if (window.MathJax) {MathJax.Hub.Config({SVG: {font: \"STIX-Web\"}});}</script><script>requirejs.config({paths: { 'plotly': ['https://cdn.plot.ly/plotly-latest.min']},});if(!window._Plotly) {require(['plotly'],function(plotly) {window._Plotly=plotly;});}</script>"
      ],
      "text/vnd.plotly.v1+html": [
       "<script type=\"text/javascript\">window.PlotlyConfig = {MathJaxConfig: 'local'};</script><script type=\"text/javascript\">if (window.MathJax) {MathJax.Hub.Config({SVG: {font: \"STIX-Web\"}});}</script><script>requirejs.config({paths: { 'plotly': ['https://cdn.plot.ly/plotly-latest.min']},});if(!window._Plotly) {require(['plotly'],function(plotly) {window._Plotly=plotly;});}</script>"
      ]
     },
     "metadata": {},
     "output_type": "display_data"
    }
   ],
   "source": [
    "#import basic libraries\n",
    "import numpy as np\n",
    "import pandas as pd\n",
    "import seaborn as sns\n",
    "import matplotlib.pyplot as plt\n",
    "%matplotlib inline\n",
    "from plotly.offline import init_notebook_mode, iplot\n",
    "import plotly.graph_objs as go\n",
    "import plotly.plotly as py\n",
    "from plotly import tools\n",
    "import plotly.figure_factory as ff\n",
    "init_notebook_mode(connected=True)\n",
    "\n",
    "plt.style.use('fivethirtyeight')"
   ]
  },
  {
   "cell_type": "code",
   "execution_count": 2,
   "metadata": {
    "_uuid": "b800e96a0c6488cc505441159db6056dda9de7c1"
   },
   "outputs": [
    {
     "data": {
      "text/html": [
       "<div>\n",
       "<style scoped>\n",
       "    .dataframe tbody tr th:only-of-type {\n",
       "        vertical-align: middle;\n",
       "    }\n",
       "\n",
       "    .dataframe tbody tr th {\n",
       "        vertical-align: top;\n",
       "    }\n",
       "\n",
       "    .dataframe thead th {\n",
       "        text-align: right;\n",
       "    }\n",
       "</style>\n",
       "<table border=\"1\" class=\"dataframe\">\n",
       "  <thead>\n",
       "    <tr style=\"text-align: right;\">\n",
       "      <th></th>\n",
       "      <th>customerID</th>\n",
       "      <th>gender</th>\n",
       "      <th>SeniorCitizen</th>\n",
       "      <th>Partner</th>\n",
       "      <th>Dependents</th>\n",
       "      <th>tenure</th>\n",
       "      <th>PhoneService</th>\n",
       "      <th>MultipleLines</th>\n",
       "      <th>InternetService</th>\n",
       "      <th>OnlineSecurity</th>\n",
       "      <th>...</th>\n",
       "      <th>DeviceProtection</th>\n",
       "      <th>TechSupport</th>\n",
       "      <th>StreamingTV</th>\n",
       "      <th>StreamingMovies</th>\n",
       "      <th>Contract</th>\n",
       "      <th>PaperlessBilling</th>\n",
       "      <th>PaymentMethod</th>\n",
       "      <th>MonthlyCharges</th>\n",
       "      <th>TotalCharges</th>\n",
       "      <th>Churn</th>\n",
       "    </tr>\n",
       "  </thead>\n",
       "  <tbody>\n",
       "    <tr>\n",
       "      <th>0</th>\n",
       "      <td>7590-VHVEG</td>\n",
       "      <td>Female</td>\n",
       "      <td>0</td>\n",
       "      <td>Yes</td>\n",
       "      <td>No</td>\n",
       "      <td>1</td>\n",
       "      <td>No</td>\n",
       "      <td>No phone service</td>\n",
       "      <td>DSL</td>\n",
       "      <td>No</td>\n",
       "      <td>...</td>\n",
       "      <td>No</td>\n",
       "      <td>No</td>\n",
       "      <td>No</td>\n",
       "      <td>No</td>\n",
       "      <td>Month-to-month</td>\n",
       "      <td>Yes</td>\n",
       "      <td>Electronic check</td>\n",
       "      <td>29.85</td>\n",
       "      <td>29.85</td>\n",
       "      <td>No</td>\n",
       "    </tr>\n",
       "    <tr>\n",
       "      <th>1</th>\n",
       "      <td>5575-GNVDE</td>\n",
       "      <td>Male</td>\n",
       "      <td>0</td>\n",
       "      <td>No</td>\n",
       "      <td>No</td>\n",
       "      <td>34</td>\n",
       "      <td>Yes</td>\n",
       "      <td>No</td>\n",
       "      <td>DSL</td>\n",
       "      <td>Yes</td>\n",
       "      <td>...</td>\n",
       "      <td>Yes</td>\n",
       "      <td>No</td>\n",
       "      <td>No</td>\n",
       "      <td>No</td>\n",
       "      <td>One year</td>\n",
       "      <td>No</td>\n",
       "      <td>Mailed check</td>\n",
       "      <td>56.95</td>\n",
       "      <td>1889.5</td>\n",
       "      <td>No</td>\n",
       "    </tr>\n",
       "    <tr>\n",
       "      <th>2</th>\n",
       "      <td>3668-QPYBK</td>\n",
       "      <td>Male</td>\n",
       "      <td>0</td>\n",
       "      <td>No</td>\n",
       "      <td>No</td>\n",
       "      <td>2</td>\n",
       "      <td>Yes</td>\n",
       "      <td>No</td>\n",
       "      <td>DSL</td>\n",
       "      <td>Yes</td>\n",
       "      <td>...</td>\n",
       "      <td>No</td>\n",
       "      <td>No</td>\n",
       "      <td>No</td>\n",
       "      <td>No</td>\n",
       "      <td>Month-to-month</td>\n",
       "      <td>Yes</td>\n",
       "      <td>Mailed check</td>\n",
       "      <td>53.85</td>\n",
       "      <td>108.15</td>\n",
       "      <td>Yes</td>\n",
       "    </tr>\n",
       "    <tr>\n",
       "      <th>3</th>\n",
       "      <td>7795-CFOCW</td>\n",
       "      <td>Male</td>\n",
       "      <td>0</td>\n",
       "      <td>No</td>\n",
       "      <td>No</td>\n",
       "      <td>45</td>\n",
       "      <td>No</td>\n",
       "      <td>No phone service</td>\n",
       "      <td>DSL</td>\n",
       "      <td>Yes</td>\n",
       "      <td>...</td>\n",
       "      <td>Yes</td>\n",
       "      <td>Yes</td>\n",
       "      <td>No</td>\n",
       "      <td>No</td>\n",
       "      <td>One year</td>\n",
       "      <td>No</td>\n",
       "      <td>Bank transfer (automatic)</td>\n",
       "      <td>42.30</td>\n",
       "      <td>1840.75</td>\n",
       "      <td>No</td>\n",
       "    </tr>\n",
       "    <tr>\n",
       "      <th>4</th>\n",
       "      <td>9237-HQITU</td>\n",
       "      <td>Female</td>\n",
       "      <td>0</td>\n",
       "      <td>No</td>\n",
       "      <td>No</td>\n",
       "      <td>2</td>\n",
       "      <td>Yes</td>\n",
       "      <td>No</td>\n",
       "      <td>Fiber optic</td>\n",
       "      <td>No</td>\n",
       "      <td>...</td>\n",
       "      <td>No</td>\n",
       "      <td>No</td>\n",
       "      <td>No</td>\n",
       "      <td>No</td>\n",
       "      <td>Month-to-month</td>\n",
       "      <td>Yes</td>\n",
       "      <td>Electronic check</td>\n",
       "      <td>70.70</td>\n",
       "      <td>151.65</td>\n",
       "      <td>Yes</td>\n",
       "    </tr>\n",
       "  </tbody>\n",
       "</table>\n",
       "<p>5 rows × 21 columns</p>\n",
       "</div>"
      ],
      "text/plain": [
       "   customerID  gender  SeniorCitizen Partner Dependents  tenure PhoneService  \\\n",
       "0  7590-VHVEG  Female              0     Yes         No       1           No   \n",
       "1  5575-GNVDE    Male              0      No         No      34          Yes   \n",
       "2  3668-QPYBK    Male              0      No         No       2          Yes   \n",
       "3  7795-CFOCW    Male              0      No         No      45           No   \n",
       "4  9237-HQITU  Female              0      No         No       2          Yes   \n",
       "\n",
       "      MultipleLines InternetService OnlineSecurity  ... DeviceProtection  \\\n",
       "0  No phone service             DSL             No  ...               No   \n",
       "1                No             DSL            Yes  ...              Yes   \n",
       "2                No             DSL            Yes  ...               No   \n",
       "3  No phone service             DSL            Yes  ...              Yes   \n",
       "4                No     Fiber optic             No  ...               No   \n",
       "\n",
       "  TechSupport StreamingTV StreamingMovies        Contract PaperlessBilling  \\\n",
       "0          No          No              No  Month-to-month              Yes   \n",
       "1          No          No              No        One year               No   \n",
       "2          No          No              No  Month-to-month              Yes   \n",
       "3         Yes          No              No        One year               No   \n",
       "4          No          No              No  Month-to-month              Yes   \n",
       "\n",
       "               PaymentMethod MonthlyCharges  TotalCharges Churn  \n",
       "0           Electronic check          29.85         29.85    No  \n",
       "1               Mailed check          56.95        1889.5    No  \n",
       "2               Mailed check          53.85        108.15   Yes  \n",
       "3  Bank transfer (automatic)          42.30       1840.75    No  \n",
       "4           Electronic check          70.70        151.65   Yes  \n",
       "\n",
       "[5 rows x 21 columns]"
      ]
     },
     "execution_count": 2,
     "metadata": {},
     "output_type": "execute_result"
    }
   ],
   "source": [
    "#import the dataset\n",
    "data = pd.read_csv('./Telco-Customer-Churn.csv')\n",
    "#snapshot of data\n",
    "data.head()"
   ]
  },
  {
   "cell_type": "code",
   "execution_count": 3,
   "metadata": {
    "_uuid": "b94524ecc9130e6891ed7847d79a68c5bffedecf"
   },
   "outputs": [
    {
     "name": "stdout",
     "output_type": "stream",
     "text": [
      "<class 'pandas.core.frame.DataFrame'>\n",
      "RangeIndex: 7043 entries, 0 to 7042\n",
      "Data columns (total 21 columns):\n",
      "customerID          7043 non-null object\n",
      "gender              7043 non-null object\n",
      "SeniorCitizen       7043 non-null int64\n",
      "Partner             7043 non-null object\n",
      "Dependents          7043 non-null object\n",
      "tenure              7043 non-null int64\n",
      "PhoneService        7043 non-null object\n",
      "MultipleLines       7043 non-null object\n",
      "InternetService     7043 non-null object\n",
      "OnlineSecurity      7043 non-null object\n",
      "OnlineBackup        7043 non-null object\n",
      "DeviceProtection    7043 non-null object\n",
      "TechSupport         7043 non-null object\n",
      "StreamingTV         7043 non-null object\n",
      "StreamingMovies     7043 non-null object\n",
      "Contract            7043 non-null object\n",
      "PaperlessBilling    7043 non-null object\n",
      "PaymentMethod       7043 non-null object\n",
      "MonthlyCharges      7043 non-null float64\n",
      "TotalCharges        7043 non-null object\n",
      "Churn               7043 non-null object\n",
      "dtypes: float64(1), int64(2), object(18)\n",
      "memory usage: 1.1+ MB\n"
     ]
    }
   ],
   "source": [
    "#column datatypes\n",
    "data.info()"
   ]
  },
  {
   "cell_type": "markdown",
   "metadata": {
    "_uuid": "95ac52328482ff354f5fff3e004931d47b9a495e"
   },
   "source": [
    "1. #### Here by going through data description, we have 4 numeric variables and 17 categorical variables(including target)."
   ]
  },
  {
   "cell_type": "markdown",
   "metadata": {
    "_uuid": "c0150fe196f80fb6fd921b4e12bf264e93272e50"
   },
   "source": [
    "### Exploratory Data Analysis"
   ]
  },
  {
   "cell_type": "code",
   "execution_count": 4,
   "metadata": {
    "_uuid": "bd2402a99c3c839a905b87df7471949e5b876c5d"
   },
   "outputs": [
    {
     "data": {
      "application/vnd.plotly.v1+json": {
       "config": {
        "linkText": "Export to plot.ly",
        "plotlyServerURL": "https://plot.ly",
        "showLink": false
       },
       "data": [
        {
         "labels": [
          "No",
          "Yes"
         ],
         "marker": {
          "colors": [
           "orange",
           "green"
          ]
         },
         "type": "pie",
         "uid": "5b04c8e7-1d45-4aaa-963d-9215f274a0ff",
         "values": [
          5174,
          1869
         ]
        }
       ],
       "layout": {
        "height": 500,
        "margin": {
         "l": 150
        },
        "title": {
         "text": "Telco Customer Churn Ratio"
        },
        "width": 500
       }
      },
      "text/html": [
       "<div id=\"6c0ae560-01a3-4b51-bd62-f9701b6aac8d\" style=\"height: 500px; width: 500px;\" class=\"plotly-graph-div\"></div><script type=\"text/javascript\">require([\"plotly\"], function(Plotly) { window.PLOTLYENV=window.PLOTLYENV || {};window.PLOTLYENV.BASE_URL=\"https://plot.ly\";Plotly.newPlot(\"6c0ae560-01a3-4b51-bd62-f9701b6aac8d\", [{\"labels\": [\"No\", \"Yes\"], \"marker\": {\"colors\": [\"orange\", \"green\"]}, \"values\": [5174, 1869], \"type\": \"pie\", \"uid\": \"5b04c8e7-1d45-4aaa-963d-9215f274a0ff\"}], {\"height\": 500, \"margin\": {\"l\": 150}, \"title\": {\"text\": \"Telco Customer Churn Ratio\"}, \"width\": 500}, {\"showLink\": false, \"linkText\": \"Export to plot.ly\", \"plotlyServerURL\": \"https://plot.ly\"})});</script>"
      ],
      "text/vnd.plotly.v1+html": [
       "<div id=\"6c0ae560-01a3-4b51-bd62-f9701b6aac8d\" style=\"height: 500px; width: 500px;\" class=\"plotly-graph-div\"></div><script type=\"text/javascript\">require([\"plotly\"], function(Plotly) { window.PLOTLYENV=window.PLOTLYENV || {};window.PLOTLYENV.BASE_URL=\"https://plot.ly\";Plotly.newPlot(\"6c0ae560-01a3-4b51-bd62-f9701b6aac8d\", [{\"labels\": [\"No\", \"Yes\"], \"marker\": {\"colors\": [\"orange\", \"green\"]}, \"values\": [5174, 1869], \"type\": \"pie\", \"uid\": \"5b04c8e7-1d45-4aaa-963d-9215f274a0ff\"}], {\"height\": 500, \"margin\": {\"l\": 150}, \"title\": {\"text\": \"Telco Customer Churn Ratio\"}, \"width\": 500}, {\"showLink\": false, \"linkText\": \"Export to plot.ly\", \"plotlyServerURL\": \"https://plot.ly\"})});</script>"
      ]
     },
     "metadata": {},
     "output_type": "display_data"
    },
    {
     "name": "stdout",
     "output_type": "stream",
     "text": [
      "No     5174\n",
      "Yes    1869\n",
      "Name: Churn, dtype: int64\n"
     ]
    }
   ],
   "source": [
    "#counts of customer churn cases vs not churn in dataset\n",
    "target= data['Churn'].value_counts()\n",
    "levels = ['No','Yes']\n",
    "trace = go.Pie(labels=target.index,values=target.values,\n",
    "               marker=dict(colors=('orange','green')))\n",
    "layout = dict(title=\"Telco Customer Churn Ratio\", margin=dict(l=150), width=500, height=500)\n",
    "figdata = [trace]\n",
    "fig = go.Figure(data=figdata, layout=layout)\n",
    "iplot(fig)\n",
    "\n",
    "#print target class counts\n",
    "print(target)"
   ]
  },
  {
   "cell_type": "markdown",
   "metadata": {
    "_uuid": "d44b9b1b0e804bf87106ba292f4c05cbd3ba0acf"
   },
   "source": [
    "In pie-chart, we can see from data we have, 26.5% of total customers in dataset churn. "
   ]
  },
  {
   "cell_type": "code",
   "execution_count": 5,
   "metadata": {
    "_uuid": "36a9303a76663f35b7948734caebac40fa6e8358"
   },
   "outputs": [],
   "source": [
    "#Let's visualize the churn on the basis of Gender\n",
    "def bar_plot(col,data,barmode='group',width=800,height=600,color1='orange',color2='purple'):\n",
    "    values = list(data[col].value_counts().keys())\n",
    "    if values ==[0,1]:\n",
    "        data[col].replace(0,'No',inplace=True)\n",
    "        data[col].replace(1,'Yes',inplace=True)\n",
    "        values = list(data[col].value_counts().keys())\n",
    "    tr1 = data[data[col]==values[0]]['Churn'].value_counts().to_dict()\n",
    "    tr2 = data[data[col]==values[1]]['Churn'].value_counts().to_dict()\n",
    "    xx = ['Male', 'Female']\n",
    "    trace1 = go.Bar(y=[tr1['No'], tr2['No']], name=\"Not Churn\", x=values, marker=dict(color=color1))\n",
    "    trace2 = go.Bar(y=[tr1['Yes'], tr2['Yes']], name=\"Churn\", x=values, marker=dict(color=color2))\n",
    "    data = [trace1, trace2]\n",
    "    layout = go.Layout(\n",
    "        barmode=barmode,xaxis = dict(title=col),yaxis=dict(title='Count'),\n",
    "    title='Effect of '+ col + ' on Customer Churn',width=width,height=height)\n",
    "    fig = go.Figure(data=data, layout=layout)\n",
    "    iplot(fig)\n"
   ]
  },
  {
   "cell_type": "code",
   "execution_count": 6,
   "metadata": {
    "_uuid": "26e7966aae9ac383f6383deaa98b10bd8997cb63"
   },
   "outputs": [
    {
     "data": {
      "application/vnd.plotly.v1+json": {
       "config": {
        "linkText": "Export to plot.ly",
        "plotlyServerURL": "https://plot.ly",
        "showLink": false
       },
       "data": [
        {
         "marker": {
          "color": "orange"
         },
         "name": "Not Churn",
         "type": "bar",
         "uid": "eefe1913-7c9d-4723-9137-1cf47dca6a10",
         "x": [
          "Male",
          "Female"
         ],
         "y": [
          2625,
          2549
         ]
        },
        {
         "marker": {
          "color": "purple"
         },
         "name": "Churn",
         "type": "bar",
         "uid": "6d896d81-151b-4ca3-aaf7-a9aab8247679",
         "x": [
          "Male",
          "Female"
         ],
         "y": [
          930,
          939
         ]
        }
       ],
       "layout": {
        "barmode": "group",
        "height": 600,
        "title": {
         "text": "Effect of gender on Customer Churn"
        },
        "width": 800,
        "xaxis": {
         "title": {
          "text": "gender"
         }
        },
        "yaxis": {
         "title": {
          "text": "Count"
         }
        }
       }
      },
      "text/html": [
       "<div id=\"ea37c7a4-a55a-4f1d-8d0b-9fca9d038068\" style=\"height: 600px; width: 800px;\" class=\"plotly-graph-div\"></div><script type=\"text/javascript\">require([\"plotly\"], function(Plotly) { window.PLOTLYENV=window.PLOTLYENV || {};window.PLOTLYENV.BASE_URL=\"https://plot.ly\";Plotly.newPlot(\"ea37c7a4-a55a-4f1d-8d0b-9fca9d038068\", [{\"marker\": {\"color\": \"orange\"}, \"name\": \"Not Churn\", \"x\": [\"Male\", \"Female\"], \"y\": [2625, 2549], \"type\": \"bar\", \"uid\": \"eefe1913-7c9d-4723-9137-1cf47dca6a10\"}, {\"marker\": {\"color\": \"purple\"}, \"name\": \"Churn\", \"x\": [\"Male\", \"Female\"], \"y\": [930, 939], \"type\": \"bar\", \"uid\": \"6d896d81-151b-4ca3-aaf7-a9aab8247679\"}], {\"barmode\": \"group\", \"height\": 600, \"title\": {\"text\": \"Effect of gender on Customer Churn\"}, \"width\": 800, \"xaxis\": {\"title\": {\"text\": \"gender\"}}, \"yaxis\": {\"title\": {\"text\": \"Count\"}}}, {\"showLink\": false, \"linkText\": \"Export to plot.ly\", \"plotlyServerURL\": \"https://plot.ly\"})});</script>"
      ],
      "text/vnd.plotly.v1+html": [
       "<div id=\"ea37c7a4-a55a-4f1d-8d0b-9fca9d038068\" style=\"height: 600px; width: 800px;\" class=\"plotly-graph-div\"></div><script type=\"text/javascript\">require([\"plotly\"], function(Plotly) { window.PLOTLYENV=window.PLOTLYENV || {};window.PLOTLYENV.BASE_URL=\"https://plot.ly\";Plotly.newPlot(\"ea37c7a4-a55a-4f1d-8d0b-9fca9d038068\", [{\"marker\": {\"color\": \"orange\"}, \"name\": \"Not Churn\", \"x\": [\"Male\", \"Female\"], \"y\": [2625, 2549], \"type\": \"bar\", \"uid\": \"eefe1913-7c9d-4723-9137-1cf47dca6a10\"}, {\"marker\": {\"color\": \"purple\"}, \"name\": \"Churn\", \"x\": [\"Male\", \"Female\"], \"y\": [930, 939], \"type\": \"bar\", \"uid\": \"6d896d81-151b-4ca3-aaf7-a9aab8247679\"}], {\"barmode\": \"group\", \"height\": 600, \"title\": {\"text\": \"Effect of gender on Customer Churn\"}, \"width\": 800, \"xaxis\": {\"title\": {\"text\": \"gender\"}}, \"yaxis\": {\"title\": {\"text\": \"Count\"}}}, {\"showLink\": false, \"linkText\": \"Export to plot.ly\", \"plotlyServerURL\": \"https://plot.ly\"})});</script>"
      ]
     },
     "metadata": {},
     "output_type": "display_data"
    }
   ],
   "source": [
    "#Comparison of churn between male and female\n",
    "bar_plot('gender',data)"
   ]
  },
  {
   "cell_type": "markdown",
   "metadata": {
    "_uuid": "ffe9dd350e9238233a78bc63a1a5904f4991c8be"
   },
   "source": [
    "There is almost no difference in churn ratio for male and female."
   ]
  },
  {
   "cell_type": "code",
   "execution_count": 7,
   "metadata": {},
   "outputs": [
    {
     "data": {
      "application/vnd.plotly.v1+json": {
       "config": {
        "linkText": "Export to plot.ly",
        "plotlyServerURL": "https://plot.ly",
        "showLink": false
       },
       "data": [
        {
         "marker": {
          "color": "orange"
         },
         "name": "Not Churn",
         "type": "bar",
         "uid": "be034d60-bf5f-4668-a668-c8c665982887",
         "x": [
          "No",
          "Yes"
         ],
         "y": [
          4508,
          666
         ]
        },
        {
         "marker": {
          "color": "purple"
         },
         "name": "Churn",
         "type": "bar",
         "uid": "20e6481f-d04f-4c67-9d2c-ca92b29ac1f0",
         "x": [
          "No",
          "Yes"
         ],
         "y": [
          1393,
          476
         ]
        }
       ],
       "layout": {
        "barmode": "group",
        "height": 600,
        "title": {
         "text": "Effect of SeniorCitizen on Customer Churn"
        },
        "width": 800,
        "xaxis": {
         "title": {
          "text": "SeniorCitizen"
         }
        },
        "yaxis": {
         "title": {
          "text": "Count"
         }
        }
       }
      },
      "text/html": [
       "<div id=\"70fdaa4f-0f9c-4a5a-a929-c205237c9052\" style=\"height: 600px; width: 800px;\" class=\"plotly-graph-div\"></div><script type=\"text/javascript\">require([\"plotly\"], function(Plotly) { window.PLOTLYENV=window.PLOTLYENV || {};window.PLOTLYENV.BASE_URL=\"https://plot.ly\";Plotly.newPlot(\"70fdaa4f-0f9c-4a5a-a929-c205237c9052\", [{\"marker\": {\"color\": \"orange\"}, \"name\": \"Not Churn\", \"x\": [\"No\", \"Yes\"], \"y\": [4508, 666], \"type\": \"bar\", \"uid\": \"be034d60-bf5f-4668-a668-c8c665982887\"}, {\"marker\": {\"color\": \"purple\"}, \"name\": \"Churn\", \"x\": [\"No\", \"Yes\"], \"y\": [1393, 476], \"type\": \"bar\", \"uid\": \"20e6481f-d04f-4c67-9d2c-ca92b29ac1f0\"}], {\"barmode\": \"group\", \"height\": 600, \"title\": {\"text\": \"Effect of SeniorCitizen on Customer Churn\"}, \"width\": 800, \"xaxis\": {\"title\": {\"text\": \"SeniorCitizen\"}}, \"yaxis\": {\"title\": {\"text\": \"Count\"}}}, {\"showLink\": false, \"linkText\": \"Export to plot.ly\", \"plotlyServerURL\": \"https://plot.ly\"})});</script>"
      ],
      "text/vnd.plotly.v1+html": [
       "<div id=\"70fdaa4f-0f9c-4a5a-a929-c205237c9052\" style=\"height: 600px; width: 800px;\" class=\"plotly-graph-div\"></div><script type=\"text/javascript\">require([\"plotly\"], function(Plotly) { window.PLOTLYENV=window.PLOTLYENV || {};window.PLOTLYENV.BASE_URL=\"https://plot.ly\";Plotly.newPlot(\"70fdaa4f-0f9c-4a5a-a929-c205237c9052\", [{\"marker\": {\"color\": \"orange\"}, \"name\": \"Not Churn\", \"x\": [\"No\", \"Yes\"], \"y\": [4508, 666], \"type\": \"bar\", \"uid\": \"be034d60-bf5f-4668-a668-c8c665982887\"}, {\"marker\": {\"color\": \"purple\"}, \"name\": \"Churn\", \"x\": [\"No\", \"Yes\"], \"y\": [1393, 476], \"type\": \"bar\", \"uid\": \"20e6481f-d04f-4c67-9d2c-ca92b29ac1f0\"}], {\"barmode\": \"group\", \"height\": 600, \"title\": {\"text\": \"Effect of SeniorCitizen on Customer Churn\"}, \"width\": 800, \"xaxis\": {\"title\": {\"text\": \"SeniorCitizen\"}}, \"yaxis\": {\"title\": {\"text\": \"Count\"}}}, {\"showLink\": false, \"linkText\": \"Export to plot.ly\", \"plotlyServerURL\": \"https://plot.ly\"})});</script>"
      ]
     },
     "metadata": {},
     "output_type": "display_data"
    }
   ],
   "source": [
    "#Let's visualize the churn ratio for senior citizens\n",
    "bar_plot('SeniorCitizen',data)"
   ]
  },
  {
   "cell_type": "code",
   "execution_count": 8,
   "metadata": {
    "_uuid": "7d98679ff2517139f184a6b132a2487cd73dc590"
   },
   "outputs": [
    {
     "data": {
      "application/vnd.plotly.v1+json": {
       "config": {
        "linkText": "Export to plot.ly",
        "plotlyServerURL": "https://plot.ly",
        "showLink": false
       },
       "data": [
        {
         "marker": {
          "color": "orange"
         },
         "name": "Not Churn",
         "type": "bar",
         "uid": "aa3bec47-c381-4726-93ab-76a60f7cb81d",
         "x": [
          "No",
          "Yes"
         ],
         "y": [
          4508,
          666
         ]
        },
        {
         "marker": {
          "color": "green"
         },
         "name": "Churn",
         "type": "bar",
         "uid": "f42d99ff-24ae-4bd6-a284-b25db4eb7342",
         "x": [
          "No",
          "Yes"
         ],
         "y": [
          1393,
          476
         ]
        }
       ],
       "layout": {
        "barmode": "stack",
        "height": 400,
        "title": {
         "text": "Effect of SeniorCitizen on Customer Churn"
        },
        "width": 600,
        "xaxis": {
         "title": {
          "text": "SeniorCitizen"
         }
        },
        "yaxis": {
         "title": {
          "text": "Count"
         }
        }
       }
      },
      "text/html": [
       "<div id=\"a004e03b-070a-47af-a79c-4204bd2c5a8b\" style=\"height: 400px; width: 600px;\" class=\"plotly-graph-div\"></div><script type=\"text/javascript\">require([\"plotly\"], function(Plotly) { window.PLOTLYENV=window.PLOTLYENV || {};window.PLOTLYENV.BASE_URL=\"https://plot.ly\";Plotly.newPlot(\"a004e03b-070a-47af-a79c-4204bd2c5a8b\", [{\"marker\": {\"color\": \"orange\"}, \"name\": \"Not Churn\", \"x\": [\"No\", \"Yes\"], \"y\": [4508, 666], \"type\": \"bar\", \"uid\": \"aa3bec47-c381-4726-93ab-76a60f7cb81d\"}, {\"marker\": {\"color\": \"green\"}, \"name\": \"Churn\", \"x\": [\"No\", \"Yes\"], \"y\": [1393, 476], \"type\": \"bar\", \"uid\": \"f42d99ff-24ae-4bd6-a284-b25db4eb7342\"}], {\"barmode\": \"stack\", \"height\": 400, \"title\": {\"text\": \"Effect of SeniorCitizen on Customer Churn\"}, \"width\": 600, \"xaxis\": {\"title\": {\"text\": \"SeniorCitizen\"}}, \"yaxis\": {\"title\": {\"text\": \"Count\"}}}, {\"showLink\": false, \"linkText\": \"Export to plot.ly\", \"plotlyServerURL\": \"https://plot.ly\"})});</script>"
      ],
      "text/vnd.plotly.v1+html": [
       "<div id=\"a004e03b-070a-47af-a79c-4204bd2c5a8b\" style=\"height: 400px; width: 600px;\" class=\"plotly-graph-div\"></div><script type=\"text/javascript\">require([\"plotly\"], function(Plotly) { window.PLOTLYENV=window.PLOTLYENV || {};window.PLOTLYENV.BASE_URL=\"https://plot.ly\";Plotly.newPlot(\"a004e03b-070a-47af-a79c-4204bd2c5a8b\", [{\"marker\": {\"color\": \"orange\"}, \"name\": \"Not Churn\", \"x\": [\"No\", \"Yes\"], \"y\": [4508, 666], \"type\": \"bar\", \"uid\": \"aa3bec47-c381-4726-93ab-76a60f7cb81d\"}, {\"marker\": {\"color\": \"green\"}, \"name\": \"Churn\", \"x\": [\"No\", \"Yes\"], \"y\": [1393, 476], \"type\": \"bar\", \"uid\": \"f42d99ff-24ae-4bd6-a284-b25db4eb7342\"}], {\"barmode\": \"stack\", \"height\": 400, \"title\": {\"text\": \"Effect of SeniorCitizen on Customer Churn\"}, \"width\": 600, \"xaxis\": {\"title\": {\"text\": \"SeniorCitizen\"}}, \"yaxis\": {\"title\": {\"text\": \"Count\"}}}, {\"showLink\": false, \"linkText\": \"Export to plot.ly\", \"plotlyServerURL\": \"https://plot.ly\"})});</script>"
      ]
     },
     "metadata": {},
     "output_type": "display_data"
    }
   ],
   "source": [
    "#Let's visualize the churn ratio for senior citizens\n",
    "bar_plot('SeniorCitizen',data,barmode='stack',width=600,height=400,color1='orange',color2='green')"
   ]
  },
  {
   "cell_type": "markdown",
   "metadata": {
    "_uuid": "f17a2c60a8ef3c5ed6e7123f77916bd352b1d527"
   },
   "source": [
    "Churn rate for senior citizens is significanlty higher as compared to non-senior citizens."
   ]
  },
  {
   "cell_type": "code",
   "execution_count": 9,
   "metadata": {
    "_uuid": "f4c04a180b3c5eeba1f56d269b95820ee9e9a89d"
   },
   "outputs": [
    {
     "data": {
      "application/vnd.plotly.v1+json": {
       "config": {
        "linkText": "Export to plot.ly",
        "plotlyServerURL": "https://plot.ly",
        "showLink": false
       },
       "data": [
        {
         "marker": {
          "color": "blue"
         },
         "name": "Not Churn",
         "type": "bar",
         "uid": "4299a2a7-5981-48fc-9ab2-c0c6e84fa1a8",
         "x": [
          "No",
          "Yes"
         ],
         "y": [
          2441,
          2733
         ]
        },
        {
         "marker": {
          "color": "pink"
         },
         "name": "Churn",
         "type": "bar",
         "uid": "89af5e18-ca3d-489d-af97-c2c2b150a8ab",
         "x": [
          "No",
          "Yes"
         ],
         "y": [
          1200,
          669
         ]
        }
       ],
       "layout": {
        "barmode": "stack",
        "height": 400,
        "title": {
         "text": "Effect of Partner on Customer Churn"
        },
        "width": 600,
        "xaxis": {
         "title": {
          "text": "Partner"
         }
        },
        "yaxis": {
         "title": {
          "text": "Count"
         }
        }
       }
      },
      "text/html": [
       "<div id=\"93cedba4-43df-484d-9844-d9ef53d2ba9f\" style=\"height: 400px; width: 600px;\" class=\"plotly-graph-div\"></div><script type=\"text/javascript\">require([\"plotly\"], function(Plotly) { window.PLOTLYENV=window.PLOTLYENV || {};window.PLOTLYENV.BASE_URL=\"https://plot.ly\";Plotly.newPlot(\"93cedba4-43df-484d-9844-d9ef53d2ba9f\", [{\"marker\": {\"color\": \"blue\"}, \"name\": \"Not Churn\", \"x\": [\"No\", \"Yes\"], \"y\": [2441, 2733], \"type\": \"bar\", \"uid\": \"4299a2a7-5981-48fc-9ab2-c0c6e84fa1a8\"}, {\"marker\": {\"color\": \"pink\"}, \"name\": \"Churn\", \"x\": [\"No\", \"Yes\"], \"y\": [1200, 669], \"type\": \"bar\", \"uid\": \"89af5e18-ca3d-489d-af97-c2c2b150a8ab\"}], {\"barmode\": \"stack\", \"height\": 400, \"title\": {\"text\": \"Effect of Partner on Customer Churn\"}, \"width\": 600, \"xaxis\": {\"title\": {\"text\": \"Partner\"}}, \"yaxis\": {\"title\": {\"text\": \"Count\"}}}, {\"showLink\": false, \"linkText\": \"Export to plot.ly\", \"plotlyServerURL\": \"https://plot.ly\"})});</script>"
      ],
      "text/vnd.plotly.v1+html": [
       "<div id=\"93cedba4-43df-484d-9844-d9ef53d2ba9f\" style=\"height: 400px; width: 600px;\" class=\"plotly-graph-div\"></div><script type=\"text/javascript\">require([\"plotly\"], function(Plotly) { window.PLOTLYENV=window.PLOTLYENV || {};window.PLOTLYENV.BASE_URL=\"https://plot.ly\";Plotly.newPlot(\"93cedba4-43df-484d-9844-d9ef53d2ba9f\", [{\"marker\": {\"color\": \"blue\"}, \"name\": \"Not Churn\", \"x\": [\"No\", \"Yes\"], \"y\": [2441, 2733], \"type\": \"bar\", \"uid\": \"4299a2a7-5981-48fc-9ab2-c0c6e84fa1a8\"}, {\"marker\": {\"color\": \"pink\"}, \"name\": \"Churn\", \"x\": [\"No\", \"Yes\"], \"y\": [1200, 669], \"type\": \"bar\", \"uid\": \"89af5e18-ca3d-489d-af97-c2c2b150a8ab\"}], {\"barmode\": \"stack\", \"height\": 400, \"title\": {\"text\": \"Effect of Partner on Customer Churn\"}, \"width\": 600, \"xaxis\": {\"title\": {\"text\": \"Partner\"}}, \"yaxis\": {\"title\": {\"text\": \"Count\"}}}, {\"showLink\": false, \"linkText\": \"Export to plot.ly\", \"plotlyServerURL\": \"https://plot.ly\"})});</script>"
      ]
     },
     "metadata": {},
     "output_type": "display_data"
    }
   ],
   "source": [
    "#let's visualize the impact of having partner on customer churn\n",
    "bar_plot('Partner',data,barmode='stack',width=600,height=400,color1='blue',color2='pink')"
   ]
  },
  {
   "cell_type": "markdown",
   "metadata": {
    "_uuid": "894524656a95e0e2cc321e157c97a56295b99ca5"
   },
   "source": [
    "From above bar chart, we can see that churn ratio for people having partners is lower than that of the one not having a partner."
   ]
  },
  {
   "cell_type": "code",
   "execution_count": 10,
   "metadata": {
    "_uuid": "b93208ef44201b87c7eb8ca49d8584578d78185d"
   },
   "outputs": [
    {
     "data": {
      "application/vnd.plotly.v1+json": {
       "config": {
        "linkText": "Export to plot.ly",
        "plotlyServerURL": "https://plot.ly",
        "showLink": false
       },
       "data": [
        {
         "marker": {
          "color": "orange"
         },
         "name": "Not Churn",
         "type": "bar",
         "uid": "4e0c3922-2fd3-4d88-8758-f6c6bfc62b21",
         "x": [
          "No",
          "Yes"
         ],
         "y": [
          3390,
          1784
         ]
        },
        {
         "marker": {
          "color": "purple"
         },
         "name": "Churn",
         "type": "bar",
         "uid": "a2d7277f-cd47-4fd5-a958-ad90a3c8e2eb",
         "x": [
          "No",
          "Yes"
         ],
         "y": [
          1543,
          326
         ]
        }
       ],
       "layout": {
        "barmode": "stack",
        "height": 400,
        "title": {
         "text": "Effect of Dependents on Customer Churn"
        },
        "width": 600,
        "xaxis": {
         "title": {
          "text": "Dependents"
         }
        },
        "yaxis": {
         "title": {
          "text": "Count"
         }
        }
       }
      },
      "text/html": [
       "<div id=\"5d40291b-d131-4dd1-8454-e969a7906ece\" style=\"height: 400px; width: 600px;\" class=\"plotly-graph-div\"></div><script type=\"text/javascript\">require([\"plotly\"], function(Plotly) { window.PLOTLYENV=window.PLOTLYENV || {};window.PLOTLYENV.BASE_URL=\"https://plot.ly\";Plotly.newPlot(\"5d40291b-d131-4dd1-8454-e969a7906ece\", [{\"marker\": {\"color\": \"orange\"}, \"name\": \"Not Churn\", \"x\": [\"No\", \"Yes\"], \"y\": [3390, 1784], \"type\": \"bar\", \"uid\": \"4e0c3922-2fd3-4d88-8758-f6c6bfc62b21\"}, {\"marker\": {\"color\": \"purple\"}, \"name\": \"Churn\", \"x\": [\"No\", \"Yes\"], \"y\": [1543, 326], \"type\": \"bar\", \"uid\": \"a2d7277f-cd47-4fd5-a958-ad90a3c8e2eb\"}], {\"barmode\": \"stack\", \"height\": 400, \"title\": {\"text\": \"Effect of Dependents on Customer Churn\"}, \"width\": 600, \"xaxis\": {\"title\": {\"text\": \"Dependents\"}}, \"yaxis\": {\"title\": {\"text\": \"Count\"}}}, {\"showLink\": false, \"linkText\": \"Export to plot.ly\", \"plotlyServerURL\": \"https://plot.ly\"})});</script>"
      ],
      "text/vnd.plotly.v1+html": [
       "<div id=\"5d40291b-d131-4dd1-8454-e969a7906ece\" style=\"height: 400px; width: 600px;\" class=\"plotly-graph-div\"></div><script type=\"text/javascript\">require([\"plotly\"], function(Plotly) { window.PLOTLYENV=window.PLOTLYENV || {};window.PLOTLYENV.BASE_URL=\"https://plot.ly\";Plotly.newPlot(\"5d40291b-d131-4dd1-8454-e969a7906ece\", [{\"marker\": {\"color\": \"orange\"}, \"name\": \"Not Churn\", \"x\": [\"No\", \"Yes\"], \"y\": [3390, 1784], \"type\": \"bar\", \"uid\": \"4e0c3922-2fd3-4d88-8758-f6c6bfc62b21\"}, {\"marker\": {\"color\": \"purple\"}, \"name\": \"Churn\", \"x\": [\"No\", \"Yes\"], \"y\": [1543, 326], \"type\": \"bar\", \"uid\": \"a2d7277f-cd47-4fd5-a958-ad90a3c8e2eb\"}], {\"barmode\": \"stack\", \"height\": 400, \"title\": {\"text\": \"Effect of Dependents on Customer Churn\"}, \"width\": 600, \"xaxis\": {\"title\": {\"text\": \"Dependents\"}}, \"yaxis\": {\"title\": {\"text\": \"Count\"}}}, {\"showLink\": false, \"linkText\": \"Export to plot.ly\", \"plotlyServerURL\": \"https://plot.ly\"})});</script>"
      ]
     },
     "metadata": {},
     "output_type": "display_data"
    }
   ],
   "source": [
    "#effect of having dependents on churn\n",
    "bar_plot('Dependents',data,barmode='stack',width=600,height=400)"
   ]
  },
  {
   "cell_type": "markdown",
   "metadata": {
    "_uuid": "b047d1549de6426f098874a43934aa3094f4d9b9"
   },
   "source": [
    "People without any dependent have higher churn ratio as compared to one's having dependents."
   ]
  },
  {
   "cell_type": "code",
   "execution_count": 11,
   "metadata": {
    "_uuid": "ec9d46b06eddc4764ec74ed0e759b3096578c90d"
   },
   "outputs": [
    {
     "data": {
      "application/vnd.plotly.v1+json": {
       "config": {
        "linkText": "Export to plot.ly",
        "plotlyServerURL": "https://plot.ly",
        "showLink": false
       },
       "data": [
        {
         "marker": {
          "color": "orange"
         },
         "name": "Not Churn",
         "type": "bar",
         "uid": "a5a7fc92-74b4-4f29-9150-8bcb20c1986a",
         "x": [
          "Yes",
          "No"
         ],
         "y": [
          4662,
          512
         ]
        },
        {
         "marker": {
          "color": "purple"
         },
         "name": "Churn",
         "type": "bar",
         "uid": "50dec0c7-3897-4c9b-9b92-5e58a093a3a0",
         "x": [
          "Yes",
          "No"
         ],
         "y": [
          1699,
          170
         ]
        }
       ],
       "layout": {
        "barmode": "group",
        "height": 600,
        "title": {
         "text": "Effect of PhoneService on Customer Churn"
        },
        "width": 800,
        "xaxis": {
         "title": {
          "text": "PhoneService"
         }
        },
        "yaxis": {
         "title": {
          "text": "Count"
         }
        }
       }
      },
      "text/html": [
       "<div id=\"5aa8d324-0a50-4130-93e3-9c2cbb38e9fb\" style=\"height: 600px; width: 800px;\" class=\"plotly-graph-div\"></div><script type=\"text/javascript\">require([\"plotly\"], function(Plotly) { window.PLOTLYENV=window.PLOTLYENV || {};window.PLOTLYENV.BASE_URL=\"https://plot.ly\";Plotly.newPlot(\"5aa8d324-0a50-4130-93e3-9c2cbb38e9fb\", [{\"marker\": {\"color\": \"orange\"}, \"name\": \"Not Churn\", \"x\": [\"Yes\", \"No\"], \"y\": [4662, 512], \"type\": \"bar\", \"uid\": \"a5a7fc92-74b4-4f29-9150-8bcb20c1986a\"}, {\"marker\": {\"color\": \"purple\"}, \"name\": \"Churn\", \"x\": [\"Yes\", \"No\"], \"y\": [1699, 170], \"type\": \"bar\", \"uid\": \"50dec0c7-3897-4c9b-9b92-5e58a093a3a0\"}], {\"barmode\": \"group\", \"height\": 600, \"title\": {\"text\": \"Effect of PhoneService on Customer Churn\"}, \"width\": 800, \"xaxis\": {\"title\": {\"text\": \"PhoneService\"}}, \"yaxis\": {\"title\": {\"text\": \"Count\"}}}, {\"showLink\": false, \"linkText\": \"Export to plot.ly\", \"plotlyServerURL\": \"https://plot.ly\"})});</script>"
      ],
      "text/vnd.plotly.v1+html": [
       "<div id=\"5aa8d324-0a50-4130-93e3-9c2cbb38e9fb\" style=\"height: 600px; width: 800px;\" class=\"plotly-graph-div\"></div><script type=\"text/javascript\">require([\"plotly\"], function(Plotly) { window.PLOTLYENV=window.PLOTLYENV || {};window.PLOTLYENV.BASE_URL=\"https://plot.ly\";Plotly.newPlot(\"5aa8d324-0a50-4130-93e3-9c2cbb38e9fb\", [{\"marker\": {\"color\": \"orange\"}, \"name\": \"Not Churn\", \"x\": [\"Yes\", \"No\"], \"y\": [4662, 512], \"type\": \"bar\", \"uid\": \"a5a7fc92-74b4-4f29-9150-8bcb20c1986a\"}, {\"marker\": {\"color\": \"purple\"}, \"name\": \"Churn\", \"x\": [\"Yes\", \"No\"], \"y\": [1699, 170], \"type\": \"bar\", \"uid\": \"50dec0c7-3897-4c9b-9b92-5e58a093a3a0\"}], {\"barmode\": \"group\", \"height\": 600, \"title\": {\"text\": \"Effect of PhoneService on Customer Churn\"}, \"width\": 800, \"xaxis\": {\"title\": {\"text\": \"PhoneService\"}}, \"yaxis\": {\"title\": {\"text\": \"Count\"}}}, {\"showLink\": false, \"linkText\": \"Export to plot.ly\", \"plotlyServerURL\": \"https://plot.ly\"})});</script>"
      ]
     },
     "metadata": {},
     "output_type": "display_data"
    }
   ],
   "source": [
    "#effect of phone service on churn\n",
    "bar_plot('PhoneService',data)"
   ]
  },
  {
   "cell_type": "markdown",
   "metadata": {
    "_uuid": "8638fac1287f7a090cbbcbddec95267911c5113c"
   },
   "source": [
    "First observation from above graph is most of the people have Phone Service.Those who don't have may be are only using Internet service of the telecom company.Also, people having phone service have higher churn ratio."
   ]
  },
  {
   "cell_type": "code",
   "execution_count": 12,
   "metadata": {
    "_uuid": "af1b53b9a7b79074fe0def92600b38efdff55f15"
   },
   "outputs": [
    {
     "data": {
      "application/vnd.plotly.v1+json": {
       "config": {
        "linkText": "Export to plot.ly",
        "plotlyServerURL": "https://plot.ly",
        "showLink": false
       },
       "data": [
        {
         "marker": {
          "color": "orange"
         },
         "name": "Not Churn",
         "type": "bar",
         "uid": "eaf69a34-cc3e-436b-8842-1ce1e616cfc9",
         "x": [
          "Yes",
          "No"
         ],
         "y": [
          2771,
          2403
         ]
        },
        {
         "marker": {
          "color": "purple"
         },
         "name": "Churn",
         "type": "bar",
         "uid": "b4c21309-3978-4980-85b1-0031a24c5f50",
         "x": [
          "Yes",
          "No"
         ],
         "y": [
          1400,
          469
         ]
        }
       ],
       "layout": {
        "barmode": "group",
        "height": 600,
        "title": {
         "text": "Effect of PaperlessBilling on Customer Churn"
        },
        "width": 800,
        "xaxis": {
         "title": {
          "text": "PaperlessBilling"
         }
        },
        "yaxis": {
         "title": {
          "text": "Count"
         }
        }
       }
      },
      "text/html": [
       "<div id=\"d9eb944c-0865-4520-8099-6068c36597b5\" style=\"height: 600px; width: 800px;\" class=\"plotly-graph-div\"></div><script type=\"text/javascript\">require([\"plotly\"], function(Plotly) { window.PLOTLYENV=window.PLOTLYENV || {};window.PLOTLYENV.BASE_URL=\"https://plot.ly\";Plotly.newPlot(\"d9eb944c-0865-4520-8099-6068c36597b5\", [{\"marker\": {\"color\": \"orange\"}, \"name\": \"Not Churn\", \"x\": [\"Yes\", \"No\"], \"y\": [2771, 2403], \"type\": \"bar\", \"uid\": \"eaf69a34-cc3e-436b-8842-1ce1e616cfc9\"}, {\"marker\": {\"color\": \"purple\"}, \"name\": \"Churn\", \"x\": [\"Yes\", \"No\"], \"y\": [1400, 469], \"type\": \"bar\", \"uid\": \"b4c21309-3978-4980-85b1-0031a24c5f50\"}], {\"barmode\": \"group\", \"height\": 600, \"title\": {\"text\": \"Effect of PaperlessBilling on Customer Churn\"}, \"width\": 800, \"xaxis\": {\"title\": {\"text\": \"PaperlessBilling\"}}, \"yaxis\": {\"title\": {\"text\": \"Count\"}}}, {\"showLink\": false, \"linkText\": \"Export to plot.ly\", \"plotlyServerURL\": \"https://plot.ly\"})});</script>"
      ],
      "text/vnd.plotly.v1+html": [
       "<div id=\"d9eb944c-0865-4520-8099-6068c36597b5\" style=\"height: 600px; width: 800px;\" class=\"plotly-graph-div\"></div><script type=\"text/javascript\">require([\"plotly\"], function(Plotly) { window.PLOTLYENV=window.PLOTLYENV || {};window.PLOTLYENV.BASE_URL=\"https://plot.ly\";Plotly.newPlot(\"d9eb944c-0865-4520-8099-6068c36597b5\", [{\"marker\": {\"color\": \"orange\"}, \"name\": \"Not Churn\", \"x\": [\"Yes\", \"No\"], \"y\": [2771, 2403], \"type\": \"bar\", \"uid\": \"eaf69a34-cc3e-436b-8842-1ce1e616cfc9\"}, {\"marker\": {\"color\": \"purple\"}, \"name\": \"Churn\", \"x\": [\"Yes\", \"No\"], \"y\": [1400, 469], \"type\": \"bar\", \"uid\": \"b4c21309-3978-4980-85b1-0031a24c5f50\"}], {\"barmode\": \"group\", \"height\": 600, \"title\": {\"text\": \"Effect of PaperlessBilling on Customer Churn\"}, \"width\": 800, \"xaxis\": {\"title\": {\"text\": \"PaperlessBilling\"}}, \"yaxis\": {\"title\": {\"text\": \"Count\"}}}, {\"showLink\": false, \"linkText\": \"Export to plot.ly\", \"plotlyServerURL\": \"https://plot.ly\"})});</script>"
      ]
     },
     "metadata": {},
     "output_type": "display_data"
    }
   ],
   "source": [
    "#let's check effect of PaperlessBilling\n",
    "bar_plot('PaperlessBilling',data)"
   ]
  },
  {
   "cell_type": "markdown",
   "metadata": {
    "_uuid": "fb10d65d5f18a5a6c08beca34ff9eab4483cbde2"
   },
   "source": [
    "People not haivng paperless billing have higher churn ratio as compared to having paperless billing. Also, more people have paperless billing. It's good that people prefer eco-friendly bills!"
   ]
  },
  {
   "cell_type": "code",
   "execution_count": 13,
   "metadata": {
    "_uuid": "855f364683c7f98ef4993e270b60e436cd6a3b32"
   },
   "outputs": [],
   "source": [
    "# values = list(data['gender'].value_counts().keys())\n",
    "# tr1 = data[data['gender']==values[0]]['Churn'].value_counts().to_dict()\n",
    "# tr1['No']"
   ]
  },
  {
   "cell_type": "code",
   "execution_count": 14,
   "metadata": {
    "_uuid": "d67346df7c1504c7987a72cff0351b2f9b962afd"
   },
   "outputs": [
    {
     "data": {
      "image/png": "[encoded data removed]",
      "text/plain": [
       "<Figure size 504x360 with 1 Axes>"
      ]
     },
     "metadata": {
      "needs_background": "light"
     },
     "output_type": "display_data"
    }
   ],
   "source": [
    "#counts of billing frequency or contacts\n",
    "fig = plt.gcf()\n",
    "fig.set_size_inches( 7, 5)\n",
    "plt.title('Counts of billing frequencies')\n",
    "sns.countplot(data['Contract']);\n"
   ]
  },
  {
   "cell_type": "markdown",
   "metadata": {
    "_uuid": "e29756862150818c71a8e4ba797c7e4bb283258f"
   },
   "source": [
    "Most of the people have monthly billing cycle."
   ]
  },
  {
   "cell_type": "code",
   "execution_count": 15,
   "metadata": {
    "_uuid": "670e485903144c942db50029099ce4bfbf7fde3d"
   },
   "outputs": [
    {
     "data": {
      "image/png": "[encoded data removed]",
      "text/plain": [
       "<Figure size 504x360 with 1 Axes>"
      ]
     },
     "metadata": {
      "needs_background": "light"
     },
     "output_type": "display_data"
    }
   ],
   "source": [
    "#Use of differnt Internet service lines\n",
    "fig = plt.gcf()\n",
    "fig.set_size_inches( 7, 5)\n",
    "plt.title('Counts of different interent service lines')\n",
    "sns.countplot(data['InternetService']);"
   ]
  },
  {
   "cell_type": "markdown",
   "metadata": {
    "_uuid": "0fbfc804bcb6f8308f0add20282c8cb0923fe50e"
   },
   "source": [
    "Most of the people who have internet service uses fiber optic lines."
   ]
  },
  {
   "cell_type": "code",
   "execution_count": 16,
   "metadata": {
    "_uuid": "75318c70f1adb34f50ee3ed1da328ccfffcefca4"
   },
   "outputs": [
    {
     "data": {
      "text/plain": [
       "<matplotlib.axes._subplots.AxesSubplot at 0x1a23996f28>"
      ]
     },
     "execution_count": 16,
     "metadata": {},
     "output_type": "execute_result"
    },
    {
     "data": {
      "image/png": "[encoded data removed]",
      "text/plain": [
       "<Figure size 576x432 with 1 Axes>"
      ]
     },
     "metadata": {
      "needs_background": "light"
     },
     "output_type": "display_data"
    }
   ],
   "source": [
    "#Churn ratio with respect to internet service type\n",
    "fig = plt.gcf()\n",
    "plt.title('Churn ratio with respect to internet service type')\n",
    "fig.set_size_inches( 8, 6)\n",
    "sns.countplot(data['InternetService'],hue=data['Churn'])"
   ]
  },
  {
   "cell_type": "markdown",
   "metadata": {
    "_uuid": "335b867221fd8f3d8e3cd0250ebac355ea5b2052"
   },
   "source": [
    "People using Fiber optic line for internet have higher churn ratio as compared to having DSL line internet."
   ]
  },
  {
   "cell_type": "code",
   "execution_count": 17,
   "metadata": {
    "_uuid": "e20d6b3da0e8a1a796f8619a81e35ce8238f86e1"
   },
   "outputs": [
    {
     "data": {
      "application/vnd.plotly.v1+json": {
       "config": {
        "linkText": "Export to plot.ly",
        "plotlyServerURL": "https://plot.ly",
        "showLink": false
       },
       "data": [
        {
         "labels": [
          "Electronic check",
          "Mailed check",
          "Bank transfer (automatic)",
          "Credit card (automatic)"
         ],
         "type": "pie",
         "uid": "3ae2790e-f29b-42ec-b7fb-c7c7da326dae",
         "values": [
          2365,
          1612,
          1544,
          1522
         ]
        }
       ],
       "layout": {
        "height": 500,
        "margin": {
         "l": 50
        },
        "title": {
         "text": "Telco Customer Payment Method"
        },
        "width": 800
       }
      },
      "text/html": [
       "<div id=\"39f4ecee-c9e7-4838-9514-5ea1c522cc89\" style=\"height: 500px; width: 800px;\" class=\"plotly-graph-div\"></div><script type=\"text/javascript\">require([\"plotly\"], function(Plotly) { window.PLOTLYENV=window.PLOTLYENV || {};window.PLOTLYENV.BASE_URL=\"https://plot.ly\";Plotly.newPlot(\"39f4ecee-c9e7-4838-9514-5ea1c522cc89\", [{\"labels\": [\"Electronic check\", \"Mailed check\", \"Bank transfer (automatic)\", \"Credit card (automatic)\"], \"values\": [2365, 1612, 1544, 1522], \"type\": \"pie\", \"uid\": \"3ae2790e-f29b-42ec-b7fb-c7c7da326dae\"}], {\"height\": 500, \"margin\": {\"l\": 50}, \"title\": {\"text\": \"Telco Customer Payment Method\"}, \"width\": 800}, {\"showLink\": false, \"linkText\": \"Export to plot.ly\", \"plotlyServerURL\": \"https://plot.ly\"})});</script>"
      ],
      "text/vnd.plotly.v1+html": [
       "<div id=\"39f4ecee-c9e7-4838-9514-5ea1c522cc89\" style=\"height: 500px; width: 800px;\" class=\"plotly-graph-div\"></div><script type=\"text/javascript\">require([\"plotly\"], function(Plotly) { window.PLOTLYENV=window.PLOTLYENV || {};window.PLOTLYENV.BASE_URL=\"https://plot.ly\";Plotly.newPlot(\"39f4ecee-c9e7-4838-9514-5ea1c522cc89\", [{\"labels\": [\"Electronic check\", \"Mailed check\", \"Bank transfer (automatic)\", \"Credit card (automatic)\"], \"values\": [2365, 1612, 1544, 1522], \"type\": \"pie\", \"uid\": \"3ae2790e-f29b-42ec-b7fb-c7c7da326dae\"}], {\"height\": 500, \"margin\": {\"l\": 50}, \"title\": {\"text\": \"Telco Customer Payment Method\"}, \"width\": 800}, {\"showLink\": false, \"linkText\": \"Export to plot.ly\", \"plotlyServerURL\": \"https://plot.ly\"})});</script>"
      ]
     },
     "metadata": {},
     "output_type": "display_data"
    }
   ],
   "source": [
    "#counts of different bill payment methods using pie chart\n",
    "target= data['PaymentMethod'].value_counts()\n",
    "levels = ['Electronic check','Mailed check','Bank transfer','Credit card']\n",
    "trace = go.Pie(labels=target.index,values=target.values\n",
    "               )\n",
    "layout = dict(title=\"Telco Customer Payment Method\", margin=dict(l=50), width=800, height=500)\n",
    "figdata = [trace]\n",
    "fig = go.Figure(data=figdata, layout=layout)\n",
    "iplot(fig)"
   ]
  },
  {
   "cell_type": "markdown",
   "metadata": {
    "_uuid": "6b6c9b335885ab6c39dc94389cec0040dbc6a21e"
   },
   "source": [
    "Around one third customer use Electronic check to pay their telecom bills."
   ]
  },
  {
   "cell_type": "code",
   "execution_count": 18,
   "metadata": {
    "_uuid": "aca2044252529872ef4b9edadfdebd91ca3afe96"
   },
   "outputs": [
    {
     "data": {
      "image/png": "[encoded data removed]",
      "text/plain": [
       "<Figure size 864x576 with 1 Axes>"
      ]
     },
     "metadata": {
      "needs_background": "light"
     },
     "output_type": "display_data"
    }
   ],
   "source": [
    "#Churn ratio analysis for different bill payment method\n",
    "fig = plt.gcf()\n",
    "fig.set_size_inches( 12, 8)\n",
    "plt.title('Churn ratio analysis for different bill payment method')\n",
    "sns.countplot(data['PaymentMethod'],hue=data['Churn']);"
   ]
  },
  {
   "cell_type": "markdown",
   "metadata": {
    "_uuid": "22e0d4523473c4799d4f4dbead162e0edb5fafe1"
   },
   "source": [
    "It is clear that churn ratio for people paying bill using Electronic check is much higher as compared to other payment methods."
   ]
  },
  {
   "cell_type": "code",
   "execution_count": 19,
   "metadata": {
    "_uuid": "2a8c5f51fd55f42f5b3299e78b84d30097e01a36"
   },
   "outputs": [
    {
     "data": {
      "text/plain": [
       "No                     3498\n",
       "Yes                    2019\n",
       "No internet service    1526\n",
       "Name: OnlineSecurity, dtype: int64"
      ]
     },
     "execution_count": 19,
     "metadata": {},
     "output_type": "execute_result"
    }
   ],
   "source": [
    "data['OnlineSecurity'].value_counts()"
   ]
  },
  {
   "cell_type": "markdown",
   "metadata": {
    "_uuid": "deb57afe3f5f00791845fedd91f6afabaf96c5ed"
   },
   "source": [
    "Here in above column OnlineSecurity, we can replace No internet service with No .Similar is the case with other columns like OnlineBackup, DeviceProtection, TechSupport, StreamingTV, StreamingMovies."
   ]
  },
  {
   "cell_type": "code",
   "execution_count": 20,
   "metadata": {
    "_uuid": "cb0339ee6f269fff148d915ebc7ee0f0c8585094"
   },
   "outputs": [],
   "source": [
    "internet_features = ['OnlineSecurity','OnlineBackup' ,'DeviceProtection' ,\n",
    "                     'TechSupport' ,'StreamingTV' ,'StreamingMovies','InternetService']"
   ]
  },
  {
   "cell_type": "code",
   "execution_count": 21,
   "metadata": {
    "_uuid": "f85f213691a565b1121e2703dfa4f6d6716a4257"
   },
   "outputs": [],
   "source": [
    "#replace No internet service with No\n",
    "data[internet_features]=data[internet_features].replace('No internet service','No')"
   ]
  },
  {
   "cell_type": "code",
   "execution_count": 22,
   "metadata": {
    "_uuid": "a45617bad71560d8519832982f83ad95cadd7180"
   },
   "outputs": [
    {
     "data": {
      "text/plain": [
       "No     5024\n",
       "Yes    2019\n",
       "Name: OnlineSecurity, dtype: int64"
      ]
     },
     "execution_count": 22,
     "metadata": {},
     "output_type": "execute_result"
    }
   ],
   "source": [
    "#let's verify it\n",
    "data['OnlineSecurity'].value_counts()"
   ]
  },
  {
   "cell_type": "code",
   "execution_count": 23,
   "metadata": {
    "_uuid": "3ea34ae49289ec5f8c96ed7180534915c391f857"
   },
   "outputs": [
    {
     "data": {
      "application/vnd.plotly.v1+json": {
       "config": {
        "linkText": "Export to plot.ly",
        "plotlyServerURL": "https://plot.ly",
        "showLink": false
       },
       "data": [
        {
         "marker": {
          "color": "orange"
         },
         "name": "Not Churn",
         "type": "bar",
         "uid": "e3e09ba1-02bf-42d7-9f03-befa9c7dd809",
         "x": [
          "No",
          "Yes"
         ],
         "y": [
          3450,
          1724
         ]
        },
        {
         "marker": {
          "color": "purple"
         },
         "name": "Churn",
         "type": "bar",
         "uid": "aee16974-a651-4ce1-ada7-9fafe51b417a",
         "x": [
          "No",
          "Yes"
         ],
         "y": [
          1574,
          295
         ]
        }
       ],
       "layout": {
        "barmode": "group",
        "height": 600,
        "title": {
         "text": "Effect of OnlineSecurity on Customer Churn"
        },
        "width": 800,
        "xaxis": {
         "title": {
          "text": "OnlineSecurity"
         }
        },
        "yaxis": {
         "title": {
          "text": "Count"
         }
        }
       }
      },
      "text/html": [
       "<div id=\"c4f69a95-7376-44ad-bce9-c57b441eb6d5\" style=\"height: 600px; width: 800px;\" class=\"plotly-graph-div\"></div><script type=\"text/javascript\">require([\"plotly\"], function(Plotly) { window.PLOTLYENV=window.PLOTLYENV || {};window.PLOTLYENV.BASE_URL=\"https://plot.ly\";Plotly.newPlot(\"c4f69a95-7376-44ad-bce9-c57b441eb6d5\", [{\"marker\": {\"color\": \"orange\"}, \"name\": \"Not Churn\", \"x\": [\"No\", \"Yes\"], \"y\": [3450, 1724], \"type\": \"bar\", \"uid\": \"e3e09ba1-02bf-42d7-9f03-befa9c7dd809\"}, {\"marker\": {\"color\": \"purple\"}, \"name\": \"Churn\", \"x\": [\"No\", \"Yes\"], \"y\": [1574, 295], \"type\": \"bar\", \"uid\": \"aee16974-a651-4ce1-ada7-9fafe51b417a\"}], {\"barmode\": \"group\", \"height\": 600, \"title\": {\"text\": \"Effect of OnlineSecurity on Customer Churn\"}, \"width\": 800, \"xaxis\": {\"title\": {\"text\": \"OnlineSecurity\"}}, \"yaxis\": {\"title\": {\"text\": \"Count\"}}}, {\"showLink\": false, \"linkText\": \"Export to plot.ly\", \"plotlyServerURL\": \"https://plot.ly\"})});</script>"
      ],
      "text/vnd.plotly.v1+html": [
       "<div id=\"c4f69a95-7376-44ad-bce9-c57b441eb6d5\" style=\"height: 600px; width: 800px;\" class=\"plotly-graph-div\"></div><script type=\"text/javascript\">require([\"plotly\"], function(Plotly) { window.PLOTLYENV=window.PLOTLYENV || {};window.PLOTLYENV.BASE_URL=\"https://plot.ly\";Plotly.newPlot(\"c4f69a95-7376-44ad-bce9-c57b441eb6d5\", [{\"marker\": {\"color\": \"orange\"}, \"name\": \"Not Churn\", \"x\": [\"No\", \"Yes\"], \"y\": [3450, 1724], \"type\": \"bar\", \"uid\": \"e3e09ba1-02bf-42d7-9f03-befa9c7dd809\"}, {\"marker\": {\"color\": \"purple\"}, \"name\": \"Churn\", \"x\": [\"No\", \"Yes\"], \"y\": [1574, 295], \"type\": \"bar\", \"uid\": \"aee16974-a651-4ce1-ada7-9fafe51b417a\"}], {\"barmode\": \"group\", \"height\": 600, \"title\": {\"text\": \"Effect of OnlineSecurity on Customer Churn\"}, \"width\": 800, \"xaxis\": {\"title\": {\"text\": \"OnlineSecurity\"}}, \"yaxis\": {\"title\": {\"text\": \"Count\"}}}, {\"showLink\": false, \"linkText\": \"Export to plot.ly\", \"plotlyServerURL\": \"https://plot.ly\"})});</script>"
      ]
     },
     "metadata": {},
     "output_type": "display_data"
    }
   ],
   "source": [
    "#churn ratio for column Online security\n",
    "bar_plot('OnlineSecurity',data)"
   ]
  },
  {
   "cell_type": "markdown",
   "metadata": {
    "_uuid": "53e9ec71a589cb04af5df6da5bda0442a587ca10"
   },
   "source": [
    "Clearly churn ratio for customers not having online security feature is higher in comparison to those having it."
   ]
  },
  {
   "cell_type": "code",
   "execution_count": 24,
   "metadata": {
    "_uuid": "cba064d51e25b9ffaa0640fc764c8e7a6ac48796"
   },
   "outputs": [
    {
     "data": {
      "application/vnd.plotly.v1+json": {
       "config": {
        "linkText": "Export to plot.ly",
        "plotlyServerURL": "https://plot.ly",
        "showLink": false
       },
       "data": [
        {
         "marker": {
          "color": "orange"
         },
         "name": "Not Churn",
         "type": "bar",
         "uid": "1a828e06-6164-41f5-bece-93790aaf76f2",
         "x": [
          "No",
          "Yes"
         ],
         "y": [
          3281,
          1893
         ]
        },
        {
         "marker": {
          "color": "purple"
         },
         "name": "Churn",
         "type": "bar",
         "uid": "205f190a-e112-4867-b86b-40586bebf0fe",
         "x": [
          "No",
          "Yes"
         ],
         "y": [
          1055,
          814
         ]
        }
       ],
       "layout": {
        "barmode": "group",
        "height": 600,
        "title": {
         "text": "Effect of StreamingTV on Customer Churn"
        },
        "width": 800,
        "xaxis": {
         "title": {
          "text": "StreamingTV"
         }
        },
        "yaxis": {
         "title": {
          "text": "Count"
         }
        }
       }
      },
      "text/html": [
       "<div id=\"38dbae15-b64f-4820-968a-9d53e975b001\" style=\"height: 600px; width: 800px;\" class=\"plotly-graph-div\"></div><script type=\"text/javascript\">require([\"plotly\"], function(Plotly) { window.PLOTLYENV=window.PLOTLYENV || {};window.PLOTLYENV.BASE_URL=\"https://plot.ly\";Plotly.newPlot(\"38dbae15-b64f-4820-968a-9d53e975b001\", [{\"marker\": {\"color\": \"orange\"}, \"name\": \"Not Churn\", \"x\": [\"No\", \"Yes\"], \"y\": [3281, 1893], \"type\": \"bar\", \"uid\": \"1a828e06-6164-41f5-bece-93790aaf76f2\"}, {\"marker\": {\"color\": \"purple\"}, \"name\": \"Churn\", \"x\": [\"No\", \"Yes\"], \"y\": [1055, 814], \"type\": \"bar\", \"uid\": \"205f190a-e112-4867-b86b-40586bebf0fe\"}], {\"barmode\": \"group\", \"height\": 600, \"title\": {\"text\": \"Effect of StreamingTV on Customer Churn\"}, \"width\": 800, \"xaxis\": {\"title\": {\"text\": \"StreamingTV\"}}, \"yaxis\": {\"title\": {\"text\": \"Count\"}}}, {\"showLink\": false, \"linkText\": \"Export to plot.ly\", \"plotlyServerURL\": \"https://plot.ly\"})});</script>"
      ],
      "text/vnd.plotly.v1+html": [
       "<div id=\"38dbae15-b64f-4820-968a-9d53e975b001\" style=\"height: 600px; width: 800px;\" class=\"plotly-graph-div\"></div><script type=\"text/javascript\">require([\"plotly\"], function(Plotly) { window.PLOTLYENV=window.PLOTLYENV || {};window.PLOTLYENV.BASE_URL=\"https://plot.ly\";Plotly.newPlot(\"38dbae15-b64f-4820-968a-9d53e975b001\", [{\"marker\": {\"color\": \"orange\"}, \"name\": \"Not Churn\", \"x\": [\"No\", \"Yes\"], \"y\": [3281, 1893], \"type\": \"bar\", \"uid\": \"1a828e06-6164-41f5-bece-93790aaf76f2\"}, {\"marker\": {\"color\": \"purple\"}, \"name\": \"Churn\", \"x\": [\"No\", \"Yes\"], \"y\": [1055, 814], \"type\": \"bar\", \"uid\": \"205f190a-e112-4867-b86b-40586bebf0fe\"}], {\"barmode\": \"group\", \"height\": 600, \"title\": {\"text\": \"Effect of StreamingTV on Customer Churn\"}, \"width\": 800, \"xaxis\": {\"title\": {\"text\": \"StreamingTV\"}}, \"yaxis\": {\"title\": {\"text\": \"Count\"}}}, {\"showLink\": false, \"linkText\": \"Export to plot.ly\", \"plotlyServerURL\": \"https://plot.ly\"})});</script>"
      ]
     },
     "metadata": {},
     "output_type": "display_data"
    }
   ],
   "source": [
    "#Churn ratio for StreamingTV\n",
    "bar_plot('StreamingTV',data)"
   ]
  },
  {
   "cell_type": "markdown",
   "metadata": {
    "_uuid": "b1828ce517390d65163bdf630f3652b3ec1c860f"
   },
   "source": [
    "Churn ratio for people having Streaming TV service is higher as compared to those not having it."
   ]
  },
  {
   "cell_type": "code",
   "execution_count": 25,
   "metadata": {
    "_uuid": "9a57657e02f92539b7fe2e7835b95e36de7e7dc6"
   },
   "outputs": [
    {
     "data": {
      "application/vnd.plotly.v1+json": {
       "config": {
        "linkText": "Export to plot.ly",
        "plotlyServerURL": "https://plot.ly",
        "showLink": false
       },
       "data": [
        {
         "marker": {
          "color": "orange"
         },
         "name": "Not Churn",
         "type": "bar",
         "uid": "0a4ad9da-d732-4499-931d-2a645973ff11",
         "x": [
          "No",
          "Yes"
         ],
         "y": [
          3260,
          1914
         ]
        },
        {
         "marker": {
          "color": "purple"
         },
         "name": "Churn",
         "type": "bar",
         "uid": "9fc50ada-0257-40d3-97ad-69fecd732889",
         "x": [
          "No",
          "Yes"
         ],
         "y": [
          1051,
          818
         ]
        }
       ],
       "layout": {
        "barmode": "group",
        "height": 600,
        "title": {
         "text": "Effect of StreamingMovies on Customer Churn"
        },
        "width": 800,
        "xaxis": {
         "title": {
          "text": "StreamingMovies"
         }
        },
        "yaxis": {
         "title": {
          "text": "Count"
         }
        }
       }
      },
      "text/html": [
       "<div id=\"cc718301-220a-4ee2-a5d4-d2ec3ec17bfa\" style=\"height: 600px; width: 800px;\" class=\"plotly-graph-div\"></div><script type=\"text/javascript\">require([\"plotly\"], function(Plotly) { window.PLOTLYENV=window.PLOTLYENV || {};window.PLOTLYENV.BASE_URL=\"https://plot.ly\";Plotly.newPlot(\"cc718301-220a-4ee2-a5d4-d2ec3ec17bfa\", [{\"marker\": {\"color\": \"orange\"}, \"name\": \"Not Churn\", \"x\": [\"No\", \"Yes\"], \"y\": [3260, 1914], \"type\": \"bar\", \"uid\": \"0a4ad9da-d732-4499-931d-2a645973ff11\"}, {\"marker\": {\"color\": \"purple\"}, \"name\": \"Churn\", \"x\": [\"No\", \"Yes\"], \"y\": [1051, 818], \"type\": \"bar\", \"uid\": \"9fc50ada-0257-40d3-97ad-69fecd732889\"}], {\"barmode\": \"group\", \"height\": 600, \"title\": {\"text\": \"Effect of StreamingMovies on Customer Churn\"}, \"width\": 800, \"xaxis\": {\"title\": {\"text\": \"StreamingMovies\"}}, \"yaxis\": {\"title\": {\"text\": \"Count\"}}}, {\"showLink\": false, \"linkText\": \"Export to plot.ly\", \"plotlyServerURL\": \"https://plot.ly\"})});</script>"
      ],
      "text/vnd.plotly.v1+html": [
       "<div id=\"cc718301-220a-4ee2-a5d4-d2ec3ec17bfa\" style=\"height: 600px; width: 800px;\" class=\"plotly-graph-div\"></div><script type=\"text/javascript\">require([\"plotly\"], function(Plotly) { window.PLOTLYENV=window.PLOTLYENV || {};window.PLOTLYENV.BASE_URL=\"https://plot.ly\";Plotly.newPlot(\"cc718301-220a-4ee2-a5d4-d2ec3ec17bfa\", [{\"marker\": {\"color\": \"orange\"}, \"name\": \"Not Churn\", \"x\": [\"No\", \"Yes\"], \"y\": [3260, 1914], \"type\": \"bar\", \"uid\": \"0a4ad9da-d732-4499-931d-2a645973ff11\"}, {\"marker\": {\"color\": \"purple\"}, \"name\": \"Churn\", \"x\": [\"No\", \"Yes\"], \"y\": [1051, 818], \"type\": \"bar\", \"uid\": \"9fc50ada-0257-40d3-97ad-69fecd732889\"}], {\"barmode\": \"group\", \"height\": 600, \"title\": {\"text\": \"Effect of StreamingMovies on Customer Churn\"}, \"width\": 800, \"xaxis\": {\"title\": {\"text\": \"StreamingMovies\"}}, \"yaxis\": {\"title\": {\"text\": \"Count\"}}}, {\"showLink\": false, \"linkText\": \"Export to plot.ly\", \"plotlyServerURL\": \"https://plot.ly\"})});</script>"
      ]
     },
     "metadata": {},
     "output_type": "display_data"
    }
   ],
   "source": [
    "#churn ratio for people having StreamingMovie service\n",
    "bar_plot('StreamingMovies',data)"
   ]
  },
  {
   "cell_type": "markdown",
   "metadata": {
    "_uuid": "c0696cac2ccb0ca474457bef4831bca98d44eeda"
   },
   "source": [
    "Like StreamingTV, Churn ratio for people having StreamingMovies service is higher.It seems these two online services are major factor for churn."
   ]
  },
  {
   "cell_type": "code",
   "execution_count": 26,
   "metadata": {
    "_uuid": "fac7328bfc7aca7bdc23c8dd6b343b221ca16dd8"
   },
   "outputs": [
    {
     "data": {
      "application/vnd.plotly.v1+json": {
       "config": {
        "linkText": "Export to plot.ly",
        "plotlyServerURL": "https://plot.ly",
        "showLink": false
       },
       "data": [
        {
         "marker": {
          "color": "orange"
         },
         "name": "Not Churn",
         "type": "bar",
         "uid": "0c1295b4-14a7-4199-b321-ffaddfbe6546",
         "x": [
          "No",
          "Yes"
         ],
         "y": [
          3440,
          1734
         ]
        },
        {
         "marker": {
          "color": "purple"
         },
         "name": "Churn",
         "type": "bar",
         "uid": "1448730b-8a92-41ac-b091-6e647b307008",
         "x": [
          "No",
          "Yes"
         ],
         "y": [
          1559,
          310
         ]
        }
       ],
       "layout": {
        "barmode": "group",
        "height": 600,
        "title": {
         "text": "Effect of TechSupport on Customer Churn"
        },
        "width": 800,
        "xaxis": {
         "title": {
          "text": "TechSupport"
         }
        },
        "yaxis": {
         "title": {
          "text": "Count"
         }
        }
       }
      },
      "text/html": [
       "<div id=\"e605c699-84fa-4564-afc2-7ca31b74f462\" style=\"height: 600px; width: 800px;\" class=\"plotly-graph-div\"></div><script type=\"text/javascript\">require([\"plotly\"], function(Plotly) { window.PLOTLYENV=window.PLOTLYENV || {};window.PLOTLYENV.BASE_URL=\"https://plot.ly\";Plotly.newPlot(\"e605c699-84fa-4564-afc2-7ca31b74f462\", [{\"marker\": {\"color\": \"orange\"}, \"name\": \"Not Churn\", \"x\": [\"No\", \"Yes\"], \"y\": [3440, 1734], \"type\": \"bar\", \"uid\": \"0c1295b4-14a7-4199-b321-ffaddfbe6546\"}, {\"marker\": {\"color\": \"purple\"}, \"name\": \"Churn\", \"x\": [\"No\", \"Yes\"], \"y\": [1559, 310], \"type\": \"bar\", \"uid\": \"1448730b-8a92-41ac-b091-6e647b307008\"}], {\"barmode\": \"group\", \"height\": 600, \"title\": {\"text\": \"Effect of TechSupport on Customer Churn\"}, \"width\": 800, \"xaxis\": {\"title\": {\"text\": \"TechSupport\"}}, \"yaxis\": {\"title\": {\"text\": \"Count\"}}}, {\"showLink\": false, \"linkText\": \"Export to plot.ly\", \"plotlyServerURL\": \"https://plot.ly\"})});</script>"
      ],
      "text/vnd.plotly.v1+html": [
       "<div id=\"e605c699-84fa-4564-afc2-7ca31b74f462\" style=\"height: 600px; width: 800px;\" class=\"plotly-graph-div\"></div><script type=\"text/javascript\">require([\"plotly\"], function(Plotly) { window.PLOTLYENV=window.PLOTLYENV || {};window.PLOTLYENV.BASE_URL=\"https://plot.ly\";Plotly.newPlot(\"e605c699-84fa-4564-afc2-7ca31b74f462\", [{\"marker\": {\"color\": \"orange\"}, \"name\": \"Not Churn\", \"x\": [\"No\", \"Yes\"], \"y\": [3440, 1734], \"type\": \"bar\", \"uid\": \"0c1295b4-14a7-4199-b321-ffaddfbe6546\"}, {\"marker\": {\"color\": \"purple\"}, \"name\": \"Churn\", \"x\": [\"No\", \"Yes\"], \"y\": [1559, 310], \"type\": \"bar\", \"uid\": \"1448730b-8a92-41ac-b091-6e647b307008\"}], {\"barmode\": \"group\", \"height\": 600, \"title\": {\"text\": \"Effect of TechSupport on Customer Churn\"}, \"width\": 800, \"xaxis\": {\"title\": {\"text\": \"TechSupport\"}}, \"yaxis\": {\"title\": {\"text\": \"Count\"}}}, {\"showLink\": false, \"linkText\": \"Export to plot.ly\", \"plotlyServerURL\": \"https://plot.ly\"})});</script>"
      ]
     },
     "metadata": {},
     "output_type": "display_data"
    }
   ],
   "source": [
    "#Churn ratio for feature tech support\n",
    "bar_plot('TechSupport',data)"
   ]
  },
  {
   "cell_type": "markdown",
   "metadata": {
    "_uuid": "84f70300ea2aa255ed162bf0f4d4dd7792e64180"
   },
   "source": [
    "People not having tech support have higher churn ratio as compared to having it. May be telecom company can provide some discount on tech support charges so that more customer can avail it."
   ]
  },
  {
   "cell_type": "code",
   "execution_count": 27,
   "metadata": {
    "_uuid": "a68ea11bedc245eacbff1945bb83aea1258aeaa0"
   },
   "outputs": [
    {
     "data": {
      "application/vnd.plotly.v1+json": {
       "config": {
        "linkText": "Export to plot.ly",
        "plotlyServerURL": "https://plot.ly",
        "showLink": false
       },
       "data": [
        {
         "marker": {
          "color": "orange"
         },
         "name": "Not Churn",
         "type": "bar",
         "uid": "0e18dd9f-8d05-4c1c-ab3c-5367f7165645",
         "x": [
          "No",
          "Yes"
         ],
         "y": [
          3268,
          1906
         ]
        },
        {
         "marker": {
          "color": "purple"
         },
         "name": "Churn",
         "type": "bar",
         "uid": "9c806bb8-d150-468a-a2de-a1ea47e11f36",
         "x": [
          "No",
          "Yes"
         ],
         "y": [
          1346,
          523
         ]
        }
       ],
       "layout": {
        "barmode": "group",
        "height": 600,
        "title": {
         "text": "Effect of OnlineBackup on Customer Churn"
        },
        "width": 800,
        "xaxis": {
         "title": {
          "text": "OnlineBackup"
         }
        },
        "yaxis": {
         "title": {
          "text": "Count"
         }
        }
       }
      },
      "text/html": [
       "<div id=\"dad51d83-e0b7-4fa7-8aa9-72e9c65631c8\" style=\"height: 600px; width: 800px;\" class=\"plotly-graph-div\"></div><script type=\"text/javascript\">require([\"plotly\"], function(Plotly) { window.PLOTLYENV=window.PLOTLYENV || {};window.PLOTLYENV.BASE_URL=\"https://plot.ly\";Plotly.newPlot(\"dad51d83-e0b7-4fa7-8aa9-72e9c65631c8\", [{\"marker\": {\"color\": \"orange\"}, \"name\": \"Not Churn\", \"x\": [\"No\", \"Yes\"], \"y\": [3268, 1906], \"type\": \"bar\", \"uid\": \"0e18dd9f-8d05-4c1c-ab3c-5367f7165645\"}, {\"marker\": {\"color\": \"purple\"}, \"name\": \"Churn\", \"x\": [\"No\", \"Yes\"], \"y\": [1346, 523], \"type\": \"bar\", \"uid\": \"9c806bb8-d150-468a-a2de-a1ea47e11f36\"}], {\"barmode\": \"group\", \"height\": 600, \"title\": {\"text\": \"Effect of OnlineBackup on Customer Churn\"}, \"width\": 800, \"xaxis\": {\"title\": {\"text\": \"OnlineBackup\"}}, \"yaxis\": {\"title\": {\"text\": \"Count\"}}}, {\"showLink\": false, \"linkText\": \"Export to plot.ly\", \"plotlyServerURL\": \"https://plot.ly\"})});</script>"
      ],
      "text/vnd.plotly.v1+html": [
       "<div id=\"dad51d83-e0b7-4fa7-8aa9-72e9c65631c8\" style=\"height: 600px; width: 800px;\" class=\"plotly-graph-div\"></div><script type=\"text/javascript\">require([\"plotly\"], function(Plotly) { window.PLOTLYENV=window.PLOTLYENV || {};window.PLOTLYENV.BASE_URL=\"https://plot.ly\";Plotly.newPlot(\"dad51d83-e0b7-4fa7-8aa9-72e9c65631c8\", [{\"marker\": {\"color\": \"orange\"}, \"name\": \"Not Churn\", \"x\": [\"No\", \"Yes\"], \"y\": [3268, 1906], \"type\": \"bar\", \"uid\": \"0e18dd9f-8d05-4c1c-ab3c-5367f7165645\"}, {\"marker\": {\"color\": \"purple\"}, \"name\": \"Churn\", \"x\": [\"No\", \"Yes\"], \"y\": [1346, 523], \"type\": \"bar\", \"uid\": \"9c806bb8-d150-468a-a2de-a1ea47e11f36\"}], {\"barmode\": \"group\", \"height\": 600, \"title\": {\"text\": \"Effect of OnlineBackup on Customer Churn\"}, \"width\": 800, \"xaxis\": {\"title\": {\"text\": \"OnlineBackup\"}}, \"yaxis\": {\"title\": {\"text\": \"Count\"}}}, {\"showLink\": false, \"linkText\": \"Export to plot.ly\", \"plotlyServerURL\": \"https://plot.ly\"})});</script>"
      ]
     },
     "metadata": {},
     "output_type": "display_data"
    }
   ],
   "source": [
    "#churn ratio for column onlinebackup\n",
    "bar_plot('OnlineBackup',data)"
   ]
  },
  {
   "cell_type": "markdown",
   "metadata": {
    "_uuid": "519ad7c533031d7c3443a882672852825c93f694"
   },
   "source": [
    "People who don't have online backup service have higher churn ratio as compared to people having it."
   ]
  },
  {
   "cell_type": "code",
   "execution_count": 28,
   "metadata": {
    "_uuid": "21adfaf0b2dfdcf8423cd17d55e1783df5c69646"
   },
   "outputs": [
    {
     "data": {
      "text/plain": [
       "Text(0.5, 0, 'Churn')"
      ]
     },
     "execution_count": 28,
     "metadata": {},
     "output_type": "execute_result"
    },
    {
     "data": {
      "image/png": "[encoded data removed]",
      "text/plain": [
       "<Figure size 720x432 with 1 Axes>"
      ]
     },
     "metadata": {
      "needs_background": "light"
     },
     "output_type": "display_data"
    }
   ],
   "source": [
    "plt.figure(figsize=(10,6))\n",
    "ax = sns.boxplot(x='Churn', y = 'tenure', data=data)\n",
    "ax.set_title('Effect of Tenure length on Churn', fontsize=18)\n",
    "ax.set_ylabel('Tenure', fontsize = 15)\n",
    "ax.set_xlabel('Churn', fontsize = 15)"
   ]
  },
  {
   "cell_type": "markdown",
   "metadata": {
    "_uuid": "d36615af62774736ac3bf46d2cfca7f6293204ab"
   },
   "source": [
    "It seems that customer churn in initial period more(over 10 months). Company must put some extra focus on new customers having tenure over 10 months."
   ]
  },
  {
   "cell_type": "code",
   "execution_count": 29,
   "metadata": {
    "_uuid": "95b5e62556d373fef7d220d9518957913a9dcbbe"
   },
   "outputs": [
    {
     "data": {
      "text/plain": [
       "Text(0.5, 0, 'Churn')"
      ]
     },
     "execution_count": 29,
     "metadata": {},
     "output_type": "execute_result"
    },
    {
     "data": {
      "image/png": "[encoded data removed]",
      "text/plain": [
       "<Figure size 720x432 with 1 Axes>"
      ]
     },
     "metadata": {
      "needs_background": "light"
     },
     "output_type": "display_data"
    }
   ],
   "source": [
    "plt.figure(figsize=(10,6))\n",
    "ax = sns.boxplot(x='Churn', y = 'MonthlyCharges', data=data)\n",
    "ax.set_title('Effect of Monthly Charges on Churn', fontsize=18)\n",
    "ax.set_ylabel('Charges', fontsize = 15)\n",
    "ax.set_xlabel('Churn', fontsize = 15)"
   ]
  },
  {
   "cell_type": "markdown",
   "metadata": {
    "_uuid": "3adef8d25fa10cd519d1fab4af1f24d78dd70715"
   },
   "source": [
    "Customer churning are paying more monthly charges as compared to non-churn customers."
   ]
  },
  {
   "cell_type": "markdown",
   "metadata": {
    "_uuid": "af658258e14dc1adcb8817302a6ea341f9dd4012"
   },
   "source": [
    "### Feature engineering"
   ]
  },
  {
   "cell_type": "code",
   "execution_count": 30,
   "metadata": {
    "_uuid": "e9570774c93d9b8021d8ad014102ffda89e2cedc"
   },
   "outputs": [],
   "source": [
    "# Converting Total Charges to a numerical data type.\n",
    "data.TotalCharges = pd.to_numeric(data.TotalCharges, errors='coerce')"
   ]
  },
  {
   "cell_type": "code",
   "execution_count": 31,
   "metadata": {
    "_uuid": "62bb6f740cfc1ae167f18a48136f484c65d712db"
   },
   "outputs": [
    {
     "data": {
      "text/plain": [
       "TotalCharges    11\n",
       "dtype: int64"
      ]
     },
     "execution_count": 31,
     "metadata": {},
     "output_type": "execute_result"
    }
   ],
   "source": [
    "#Let's check for nulls first\n",
    "nulls = data.isnull().sum()\n",
    "nulls[nulls > 0]"
   ]
  },
  {
   "cell_type": "code",
   "execution_count": 32,
   "metadata": {
    "_uuid": "df9074c420c77e19a821f48292718380caa882d0"
   },
   "outputs": [],
   "source": [
    "#impute missing values with 0\n",
    "data.fillna(0,inplace=True)"
   ]
  },
  {
   "cell_type": "code",
   "execution_count": 33,
   "metadata": {
    "_uuid": "18398e3cbb0ac07ecbcefe9057a8f8d524324099"
   },
   "outputs": [],
   "source": [
    "#new feature - Internet(Yes- have internet service, No- do not have internet service)\n",
    "data['Internet'] = data['InternetService'].apply(lambda x : x if x=='No' else 'Yes')"
   ]
  },
  {
   "cell_type": "code",
   "execution_count": 34,
   "metadata": {
    "_uuid": "1b6b320fb4baa9344f46de62478149c8ca4f9f74"
   },
   "outputs": [
    {
     "data": {
      "text/plain": [
       "Yes    5517\n",
       "No     1526\n",
       "Name: Internet, dtype: int64"
      ]
     },
     "execution_count": 34,
     "metadata": {},
     "output_type": "execute_result"
    }
   ],
   "source": [
    "data['Internet'].value_counts()"
   ]
  },
  {
   "cell_type": "code",
   "execution_count": 35,
   "metadata": {
    "_uuid": "942fb80b0f525f67d5aff4af99215d591c754e67"
   },
   "outputs": [
    {
     "data": {
      "text/plain": [
       "No                  3390\n",
       "Yes                 2971\n",
       "No phone service     682\n",
       "Name: MultipleLines, dtype: int64"
      ]
     },
     "execution_count": 35,
     "metadata": {},
     "output_type": "execute_result"
    }
   ],
   "source": [
    "data['MultipleLines'].value_counts()"
   ]
  },
  {
   "cell_type": "code",
   "execution_count": 36,
   "metadata": {
    "_uuid": "6114606628b8bf8dc5798515cc260bb2eb274c2c"
   },
   "outputs": [],
   "source": [
    "#replace No phone service with No\n",
    "data['MultipleLines'].replace('No phone service','No',inplace=True)"
   ]
  },
  {
   "cell_type": "code",
   "execution_count": 37,
   "metadata": {
    "_uuid": "74ebad32bef7fe98c9b979a0b49885e178896303"
   },
   "outputs": [],
   "source": [
    "#train and target\n",
    "y = data['Churn'].map({'Yes':1,'No':0})\n",
    "X = data.drop(labels=['Churn','customerID'],axis=1).copy()"
   ]
  },
  {
   "cell_type": "code",
   "execution_count": 38,
   "metadata": {},
   "outputs": [],
   "source": [
    "pll_data = data.copy()"
   ]
  },
  {
   "cell_type": "code",
   "execution_count": 39,
   "metadata": {},
   "outputs": [],
   "source": [
    "pll_data['ChurnNumerical'] = pll_data['Churn'].map({'Yes':1,'No':0})"
   ]
  },
  {
   "cell_type": "code",
   "execution_count": 40,
   "metadata": {},
   "outputs": [],
   "source": [
    "pll_data.to_csv('TelcoChurnBasic.csv')"
   ]
  },
  {
   "cell_type": "code",
   "execution_count": 41,
   "metadata": {
    "_uuid": "abe5dbd3ff32b12a5a84f08898bf57e5faf9efa3"
   },
   "outputs": [],
   "source": [
    "#find list of categorical columns for encoding\n",
    "cat_cols = []\n",
    "for column in X.columns:\n",
    "    if column not in ['tenure','MonthlyCharges','TotalCharges']:\n",
    "        cat_cols.append(column)"
   ]
  },
  {
   "cell_type": "code",
   "execution_count": 42,
   "metadata": {
    "_uuid": "135cae5a44d6edeb7c4ed7d9cc0b0db39d7e5873"
   },
   "outputs": [],
   "source": [
    "#Convert categorical columns to binary\n",
    "X= pd.get_dummies(X,columns=cat_cols)\n"
   ]
  },
  {
   "cell_type": "code",
   "execution_count": 43,
   "metadata": {
    "_uuid": "f689c5cb31e16a7d7ce28be0e18abc0179502e88"
   },
   "outputs": [
    {
     "data": {
      "text/html": [
       "<div>\n",
       "<style scoped>\n",
       "    .dataframe tbody tr th:only-of-type {\n",
       "        vertical-align: middle;\n",
       "    }\n",
       "\n",
       "    .dataframe tbody tr th {\n",
       "        vertical-align: top;\n",
       "    }\n",
       "\n",
       "    .dataframe thead th {\n",
       "        text-align: right;\n",
       "    }\n",
       "</style>\n",
       "<table border=\"1\" class=\"dataframe\">\n",
       "  <thead>\n",
       "    <tr style=\"text-align: right;\">\n",
       "      <th></th>\n",
       "      <th>tenure</th>\n",
       "      <th>MonthlyCharges</th>\n",
       "      <th>TotalCharges</th>\n",
       "      <th>gender_Female</th>\n",
       "      <th>gender_Male</th>\n",
       "      <th>SeniorCitizen_No</th>\n",
       "      <th>SeniorCitizen_Yes</th>\n",
       "      <th>Partner_No</th>\n",
       "      <th>Partner_Yes</th>\n",
       "      <th>Dependents_No</th>\n",
       "      <th>...</th>\n",
       "      <th>Contract_One year</th>\n",
       "      <th>Contract_Two year</th>\n",
       "      <th>PaperlessBilling_No</th>\n",
       "      <th>PaperlessBilling_Yes</th>\n",
       "      <th>PaymentMethod_Bank transfer (automatic)</th>\n",
       "      <th>PaymentMethod_Credit card (automatic)</th>\n",
       "      <th>PaymentMethod_Electronic check</th>\n",
       "      <th>PaymentMethod_Mailed check</th>\n",
       "      <th>Internet_No</th>\n",
       "      <th>Internet_Yes</th>\n",
       "    </tr>\n",
       "  </thead>\n",
       "  <tbody>\n",
       "    <tr>\n",
       "      <th>0</th>\n",
       "      <td>1</td>\n",
       "      <td>29.85</td>\n",
       "      <td>29.85</td>\n",
       "      <td>1</td>\n",
       "      <td>0</td>\n",
       "      <td>1</td>\n",
       "      <td>0</td>\n",
       "      <td>0</td>\n",
       "      <td>1</td>\n",
       "      <td>1</td>\n",
       "      <td>...</td>\n",
       "      <td>0</td>\n",
       "      <td>0</td>\n",
       "      <td>0</td>\n",
       "      <td>1</td>\n",
       "      <td>0</td>\n",
       "      <td>0</td>\n",
       "      <td>1</td>\n",
       "      <td>0</td>\n",
       "      <td>0</td>\n",
       "      <td>1</td>\n",
       "    </tr>\n",
       "    <tr>\n",
       "      <th>1</th>\n",
       "      <td>34</td>\n",
       "      <td>56.95</td>\n",
       "      <td>1889.50</td>\n",
       "      <td>0</td>\n",
       "      <td>1</td>\n",
       "      <td>1</td>\n",
       "      <td>0</td>\n",
       "      <td>1</td>\n",
       "      <td>0</td>\n",
       "      <td>1</td>\n",
       "      <td>...</td>\n",
       "      <td>1</td>\n",
       "      <td>0</td>\n",
       "      <td>1</td>\n",
       "      <td>0</td>\n",
       "      <td>0</td>\n",
       "      <td>0</td>\n",
       "      <td>0</td>\n",
       "      <td>1</td>\n",
       "      <td>0</td>\n",
       "      <td>1</td>\n",
       "    </tr>\n",
       "    <tr>\n",
       "      <th>2</th>\n",
       "      <td>2</td>\n",
       "      <td>53.85</td>\n",
       "      <td>108.15</td>\n",
       "      <td>0</td>\n",
       "      <td>1</td>\n",
       "      <td>1</td>\n",
       "      <td>0</td>\n",
       "      <td>1</td>\n",
       "      <td>0</td>\n",
       "      <td>1</td>\n",
       "      <td>...</td>\n",
       "      <td>0</td>\n",
       "      <td>0</td>\n",
       "      <td>0</td>\n",
       "      <td>1</td>\n",
       "      <td>0</td>\n",
       "      <td>0</td>\n",
       "      <td>0</td>\n",
       "      <td>1</td>\n",
       "      <td>0</td>\n",
       "      <td>1</td>\n",
       "    </tr>\n",
       "    <tr>\n",
       "      <th>3</th>\n",
       "      <td>45</td>\n",
       "      <td>42.30</td>\n",
       "      <td>1840.75</td>\n",
       "      <td>0</td>\n",
       "      <td>1</td>\n",
       "      <td>1</td>\n",
       "      <td>0</td>\n",
       "      <td>1</td>\n",
       "      <td>0</td>\n",
       "      <td>1</td>\n",
       "      <td>...</td>\n",
       "      <td>1</td>\n",
       "      <td>0</td>\n",
       "      <td>1</td>\n",
       "      <td>0</td>\n",
       "      <td>1</td>\n",
       "      <td>0</td>\n",
       "      <td>0</td>\n",
       "      <td>0</td>\n",
       "      <td>0</td>\n",
       "      <td>1</td>\n",
       "    </tr>\n",
       "    <tr>\n",
       "      <th>4</th>\n",
       "      <td>2</td>\n",
       "      <td>70.70</td>\n",
       "      <td>151.65</td>\n",
       "      <td>1</td>\n",
       "      <td>0</td>\n",
       "      <td>1</td>\n",
       "      <td>0</td>\n",
       "      <td>1</td>\n",
       "      <td>0</td>\n",
       "      <td>1</td>\n",
       "      <td>...</td>\n",
       "      <td>0</td>\n",
       "      <td>0</td>\n",
       "      <td>0</td>\n",
       "      <td>1</td>\n",
       "      <td>0</td>\n",
       "      <td>0</td>\n",
       "      <td>1</td>\n",
       "      <td>0</td>\n",
       "      <td>0</td>\n",
       "      <td>1</td>\n",
       "    </tr>\n",
       "  </tbody>\n",
       "</table>\n",
       "<p>5 rows × 41 columns</p>\n",
       "</div>"
      ],
      "text/plain": [
       "   tenure  MonthlyCharges  TotalCharges  gender_Female  gender_Male  \\\n",
       "0       1           29.85         29.85              1            0   \n",
       "1      34           56.95       1889.50              0            1   \n",
       "2       2           53.85        108.15              0            1   \n",
       "3      45           42.30       1840.75              0            1   \n",
       "4       2           70.70        151.65              1            0   \n",
       "\n",
       "   SeniorCitizen_No  SeniorCitizen_Yes  Partner_No  Partner_Yes  \\\n",
       "0                 1                  0           0            1   \n",
       "1                 1                  0           1            0   \n",
       "2                 1                  0           1            0   \n",
       "3                 1                  0           1            0   \n",
       "4                 1                  0           1            0   \n",
       "\n",
       "   Dependents_No  ...  Contract_One year  Contract_Two year  \\\n",
       "0              1  ...                  0                  0   \n",
       "1              1  ...                  1                  0   \n",
       "2              1  ...                  0                  0   \n",
       "3              1  ...                  1                  0   \n",
       "4              1  ...                  0                  0   \n",
       "\n",
       "   PaperlessBilling_No  PaperlessBilling_Yes  \\\n",
       "0                    0                     1   \n",
       "1                    1                     0   \n",
       "2                    0                     1   \n",
       "3                    1                     0   \n",
       "4                    0                     1   \n",
       "\n",
       "   PaymentMethod_Bank transfer (automatic)  \\\n",
       "0                                        0   \n",
       "1                                        0   \n",
       "2                                        0   \n",
       "3                                        1   \n",
       "4                                        0   \n",
       "\n",
       "   PaymentMethod_Credit card (automatic)  PaymentMethod_Electronic check  \\\n",
       "0                                      0                               1   \n",
       "1                                      0                               0   \n",
       "2                                      0                               0   \n",
       "3                                      0                               0   \n",
       "4                                      0                               1   \n",
       "\n",
       "   PaymentMethod_Mailed check  Internet_No  Internet_Yes  \n",
       "0                           0            0             1  \n",
       "1                           1            0             1  \n",
       "2                           1            0             1  \n",
       "3                           0            0             1  \n",
       "4                           0            0             1  \n",
       "\n",
       "[5 rows x 41 columns]"
      ]
     },
     "execution_count": 43,
     "metadata": {},
     "output_type": "execute_result"
    }
   ],
   "source": [
    "#shape after conversion of categorical features\n",
    "X.head()"
   ]
  }
 ],
 "metadata": {
  "kernelspec": {
   "display_name": "Python 3",
   "language": "python",
   "name": "python3"
  },
  "language_info": {
   "codemirror_mode": {
    "name": "ipython",
    "version": 3
   },
   "file_extension": ".py",
   "mimetype": "text/x-python",
   "name": "python",
   "nbconvert_exporter": "python",
   "pygments_lexer": "ipython3",
   "version": "3.7.2"
  }
 },
 "nbformat": 4,
 "nbformat_minor": 2
}
